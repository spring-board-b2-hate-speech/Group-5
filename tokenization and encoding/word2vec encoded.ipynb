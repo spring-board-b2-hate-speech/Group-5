{
 "cells": [
  {
   "cell_type": "markdown",
   "id": "2cc8c79b-fb69-4a2c-9987-c21cb25db4dc",
   "metadata": {},
   "source": [
    "# importing necessary libraries"
   ]
  },
  {
   "cell_type": "code",
   "execution_count": 1,
   "id": "a214c93d-a8fa-41ff-ac6c-f9283542bcce",
   "metadata": {},
   "outputs": [],
   "source": [
    "import pandas as pd\n",
    "import spacy"
   ]
  },
  {
   "cell_type": "markdown",
   "id": "da933a7b-e2af-4d6c-a898-96af33779aac",
   "metadata": {},
   "source": [
    "# Load preprocessed data"
   ]
  },
  {
   "cell_type": "code",
   "execution_count": 2,
   "id": "51b342a9-59d7-4f90-9720-643a5cc8b364",
   "metadata": {},
   "outputs": [],
   "source": [
    "data = pd.read_csv('hatespeech_Preprocessed.csv')"
   ]
  },
  {
   "cell_type": "markdown",
   "id": "85550de2-26d2-40b7-b0a4-06ae06008c81",
   "metadata": {},
   "source": [
    "# Load SpaCy model"
   ]
  },
  {
   "cell_type": "code",
   "execution_count": 3,
   "id": "29ac188e-2588-48dd-9d78-6a4cb49a751a",
   "metadata": {},
   "outputs": [],
   "source": [
    "nlp = spacy.load('en_core_web_md')"
   ]
  },
  {
   "cell_type": "markdown",
   "id": "8fe367b1-b1a6-417c-97e2-5ccb3ceedb58",
   "metadata": {},
   "source": [
    "# Function to compute Word2Vec embeddings"
   ]
  },
  {
   "cell_type": "code",
   "execution_count": 4,
   "id": "be1826db-68d6-4003-9dcc-7f2e25803e6a",
   "metadata": {},
   "outputs": [],
   "source": [
    "def get_word2vec_embeddings(text_series):\n",
    "    embeddings = []\n",
    "    for doc in nlp.pipe(text_series, disable=[\"parser\", \"ner\"]):\n",
    "        if doc.has_vector:\n",
    "            embeddings.append(doc.vector)\n",
    "        else:\n",
    "            embeddings.append(None)  # In case the doc has no vectors\n",
    "    return embeddings"
   ]
  },
  {
   "cell_type": "markdown",
   "id": "f5967bc4-3f75-4b90-b7bb-f0b49d066c2b",
   "metadata": {},
   "source": [
    "# Apply the function to the lemmatized text"
   ]
  },
  {
   "cell_type": "code",
   "execution_count": 5,
   "id": "049f740f-88d4-4351-b4b6-5ef269065503",
   "metadata": {},
   "outputs": [],
   "source": [
    "data['word2vec'] = get_word2vec_embeddings(data['lemmatized'].apply(lambda x: ' '.join(eval(x))))"
   ]
  },
  {
   "cell_type": "code",
   "execution_count": 6,
   "id": "8bbd658b-57ff-4a40-8480-eb64b53a5bc4",
   "metadata": {},
   "outputs": [
    {
     "data": {
      "text/plain": [
       "0        [-1.906, 1.2487, 1.9823, 1.9465, 1.79555, 1.50...\n",
       "1        [0.19075249, 2.0418324, -3.4573777, 0.86299753...\n",
       "2        [1.9986349, -5.041985, -0.76663, -1.51065, 1.4...\n",
       "3        [-1.7351625, -0.36887124, -0.23621875, -1.3883...\n",
       "4        [-2.5482068, 0.2703433, -3.9575834, 2.7313, 1....\n",
       "                               ...                        \n",
       "41139    [-0.96657497, -0.061333258, -0.79939, -0.07666...\n",
       "41140    [0.40465587, 2.970246, -3.5896618, -1.3439579,...\n",
       "41141    [3.7351, 1.0318251, -0.8066, 2.11059, -1.93250...\n",
       "41142    [0.08542502, -0.652035, 1.139975, 0.37980497, ...\n",
       "41143    [-2.26612, 1.6801, -1.407895, -0.5243, 3.7953,...\n",
       "Name: word2vec, Length: 41144, dtype: object"
      ]
     },
     "execution_count": 6,
     "metadata": {},
     "output_type": "execute_result"
    }
   ],
   "source": [
    "data['word2vec'] "
   ]
  },
  {
   "cell_type": "markdown",
   "id": "0206a398-e846-41c0-98f7-6b024196e097",
   "metadata": {},
   "source": [
    "# Save the data with Word2Vec embeddings"
   ]
  },
  {
   "cell_type": "code",
   "execution_count": 7,
   "id": "922f9549-0d2f-4a04-a9a3-a212d47fd7b2",
   "metadata": {},
   "outputs": [
    {
     "name": "stdout",
     "output_type": "stream",
     "text": [
      "Word2Vec embeddings computed and file saved.\n"
     ]
    }
   ],
   "source": [
    "data.to_csv('hatespeech_with_word2vec.csv', index=False)\n",
    "print(\"Word2Vec embeddings computed and file saved.\")"
   ]
  }
 ],
 "metadata": {
  "kernelspec": {
   "display_name": "Python 3 (ipykernel)",
   "language": "python",
   "name": "python3"
  },
  "language_info": {
   "codemirror_mode": {
    "name": "ipython",
    "version": 3
   },
   "file_extension": ".py",
   "mimetype": "text/x-python",
   "name": "python",
   "nbconvert_exporter": "python",
   "pygments_lexer": "ipython3",
   "version": "3.12.4"
  }
 },
 "nbformat": 4,
 "nbformat_minor": 5
}
