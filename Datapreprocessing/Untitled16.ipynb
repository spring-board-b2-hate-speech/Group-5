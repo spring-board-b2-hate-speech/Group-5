{
 "cells": [
  {
   "cell_type": "code",
   "execution_count": 1,
   "id": "ce0eab61-8131-49c1-bdd3-576311f8310b",
   "metadata": {},
   "outputs": [
    {
     "name": "stdout",
     "output_type": "stream",
     "text": [
      "Dataset Info:\n",
      "\n",
      "<class 'pandas.core.frame.DataFrame'>\n",
      "RangeIndex: 41144 entries, 0 to 41143\n",
      "Data columns (total 3 columns):\n",
      " #   Column      Non-Null Count  Dtype \n",
      "---  ------      --------------  ----- \n",
      " 0   Unnamed: 0  41144 non-null  int64 \n",
      " 1   comment     41144 non-null  object\n",
      " 2   label       41144 non-null  object\n",
      "dtypes: int64(1), object(2)\n",
      "memory usage: 964.4+ KB\n",
      "None\n"
     ]
    }
   ],
   "source": [
    "# Import necessary libraries\n",
    "import pandas as pd\n",
    "\n",
    "# Load dataset with specified encoding\n",
    "try:\n",
    "    df = pd.read_csv('Downloads/hate.csv (1)/hate.csv', encoding='utf-8')\n",
    "except UnicodeDecodeError:\n",
    "    df = pd.read_csv('Downloads/hate.csv (1)/hate.csv', encoding='latin1')\n",
    "\n",
    "# General dataset information\n",
    "print(\"Dataset Info:\\n\")\n",
    "print(df.info())"
   ]
  },
  {
   "cell_type": "code",
   "execution_count": 2,
   "id": "8059de0c-3218-404a-9c1f-6bea3480990d",
   "metadata": {},
   "outputs": [
    {
     "name": "stdout",
     "output_type": "stream",
     "text": [
      "\n",
      "First few rows of the dataset:\n",
      "\n",
      "   Unnamed: 0                                            comment label\n",
      "0           1                                dalits are lowlives     N\n",
      "1           2             gay people are a burden to our society     N\n",
      "2           3                              Arabs are not welcome     N\n",
      "3           4  I'm not saying we should actually eliminate he...     N\n",
      "4           5                       bananas are for black people     N\n"
     ]
    }
   ],
   "source": [
    "# Display first few rows of the dataset\n",
    "print(\"\\nFirst few rows of the dataset:\\n\")\n",
    "print(df.head())"
   ]
  },
  {
   "cell_type": "code",
   "execution_count": 6,
   "id": "86a17909-0e91-465f-9d72-86567bfbc235",
   "metadata": {},
   "outputs": [
    {
     "name": "stdout",
     "output_type": "stream",
     "text": [
      "\n",
      "Number of duplicate rows: 0\n"
     ]
    }
   ],
   "source": [
    "# Check for duplicates\n",
    "duplicates = df.duplicated().sum()\n",
    "print(\"\\nNumber of duplicate rows:\", duplicates)"
   ]
  },
  {
   "cell_type": "raw",
   "id": "a9a7e8ba-c71c-4582-9c09-7d5268d76914",
   "metadata": {},
   "source": [
    "This code creates a new DataFrame called original_positives_df that contains only the rows where the label column has a value of N, indicating a NOn Hate sentiment. The shape attribute is then used to print the dimensions of the resulting DataFrame."
   ]
  },
  {
   "cell_type": "code",
   "execution_count": 9,
   "id": "b6e9fb94-6095-4b1f-aa77-570a73cf3313",
   "metadata": {},
   "outputs": [
    {
     "data": {
      "text/plain": [
       "(22158, 3)"
      ]
     },
     "execution_count": 9,
     "metadata": {},
     "output_type": "execute_result"
    }
   ],
   "source": [
    "original_positives_df = df[df['label'] == 'N']\n",
    "original_positives_df.shape"
   ]
  },
  {
   "cell_type": "markdown",
   "id": "edbfaa3b-9202-487f-8a08-aeef09513f4b",
   "metadata": {},
   "source": [
    "This code creates a new DataFrame original_negatives_df containing only the rows from the original DataFrame data where the value in the label column is P (indicating a Hate sentiment). The shape attribute is then called on this new DataFrame to show the dimensions (number of rows and columns) of the DataFrame.\n",
    "\n",
    "The resulting output would show the dimensions of the original_negatives_df DataFrame, indicating the number of negative sentiment samples in the original dataset."
   ]
  },
  {
   "cell_type": "code",
   "execution_count": 11,
   "id": "234342f1-974e-4d93-97d8-f072dc7ed4c0",
   "metadata": {},
   "outputs": [
    {
     "data": {
      "text/plain": [
       "(18950, 3)"
      ]
     },
     "execution_count": 11,
     "metadata": {},
     "output_type": "execute_result"
    }
   ],
   "source": [
    "original_negatives_df = df[df['label'] == 'P']\n",
    "original_negatives_df.shape"
   ]
  },
  {
   "cell_type": "markdown",
   "id": "5c2bf32b-22b3-46f2-b947-e58f218ab5aa",
   "metadata": {},
   "source": [
    "Negation Generation for Positive Examples"
   ]
  },
  {
   "cell_type": "markdown",
   "id": "d07d0575-7d6a-430c-be1d-47750419f19d",
   "metadata": {},
   "source": [
    "Negation generation is a technique used in natural language processing to create negative versions of positive text data. It is achieved by adding negation words such as \"not\" before positive words in a sentence. The resulting negated sentences can then be used to train models to better understand and handle negations in sentiment analysis tasks.\n",
    "Negation generation is important because it can help improve the accuracy of sentiment analysis models, especially in cases where negations are common in the text data being analyzed. By incorporating negated examples in the training data, the model can learn to recognize and handle negations more effectively, leading to more accurate sentiment predictions.\n",
    "This code block uses the TextBlob library to generate negated versions of the positive examples in the dataset. The negated examples are labeled as negative (P) and stored in a new dataframe called neg_data. The original dataframe of positive examples, original_positives_df, is not modified."
   ]
  },
  {
   "cell_type": "code",
   "execution_count": 12,
   "id": "d0908051-7259-4df1-8fb7-002b39083907",
   "metadata": {},
   "outputs": [],
   "source": [
    "from textblob import TextBlob\n",
    "\n",
    "# Generate negated versions of the positive examples\n",
    "neg_data = original_positives_df.copy()\n",
    "\n",
    "neg_data['comment'] = neg_data['comment'].apply(lambda x: \" \".join([\"not \" + w for w in x.split()]))\n",
    "\n",
    "# Label the negated examples as negative (0)\n",
    "neg_data['label'] = 'P'"
   ]
  },
  {
   "cell_type": "code",
   "execution_count": 13,
   "id": "99c2136d-42c0-4d3d-81ba-f778cdf23dce",
   "metadata": {},
   "outputs": [
    {
     "name": "stdout",
     "output_type": "stream",
     "text": [
      "(22158, 3)\n"
     ]
    },
    {
     "data": {
      "text/html": [
       "<div>\n",
       "<style scoped>\n",
       "    .dataframe tbody tr th:only-of-type {\n",
       "        vertical-align: middle;\n",
       "    }\n",
       "\n",
       "    .dataframe tbody tr th {\n",
       "        vertical-align: top;\n",
       "    }\n",
       "\n",
       "    .dataframe thead th {\n",
       "        text-align: right;\n",
       "    }\n",
       "</style>\n",
       "<table border=\"1\" class=\"dataframe\">\n",
       "  <thead>\n",
       "    <tr style=\"text-align: right;\">\n",
       "      <th></th>\n",
       "      <th>Unnamed: 0</th>\n",
       "      <th>comment</th>\n",
       "      <th>label</th>\n",
       "    </tr>\n",
       "  </thead>\n",
       "  <tbody>\n",
       "    <tr>\n",
       "      <th>0</th>\n",
       "      <td>1</td>\n",
       "      <td>not dalits not are not lowlives</td>\n",
       "      <td>P</td>\n",
       "    </tr>\n",
       "    <tr>\n",
       "      <th>1</th>\n",
       "      <td>2</td>\n",
       "      <td>not gay not people not are not a not burden no...</td>\n",
       "      <td>P</td>\n",
       "    </tr>\n",
       "    <tr>\n",
       "      <th>2</th>\n",
       "      <td>3</td>\n",
       "      <td>not Arabs not are not not not welcome</td>\n",
       "      <td>P</td>\n",
       "    </tr>\n",
       "    <tr>\n",
       "      <th>3</th>\n",
       "      <td>4</td>\n",
       "      <td>not I'm not not not saying not we not should n...</td>\n",
       "      <td>P</td>\n",
       "    </tr>\n",
       "    <tr>\n",
       "      <th>4</th>\n",
       "      <td>5</td>\n",
       "      <td>not bananas not are not for not black not people</td>\n",
       "      <td>P</td>\n",
       "    </tr>\n",
       "    <tr>\n",
       "      <th>6</th>\n",
       "      <td>7</td>\n",
       "      <td>not women not can not not not reproduce not ki...</td>\n",
       "      <td>P</td>\n",
       "    </tr>\n",
       "    <tr>\n",
       "      <th>8</th>\n",
       "      <td>9</td>\n",
       "      <td>not Who not cares not what not Chinese not peo...</td>\n",
       "      <td>P</td>\n",
       "    </tr>\n",
       "  </tbody>\n",
       "</table>\n",
       "</div>"
      ],
      "text/plain": [
       "   Unnamed: 0                                            comment label\n",
       "0           1                    not dalits not are not lowlives     P\n",
       "1           2  not gay not people not are not a not burden no...     P\n",
       "2           3              not Arabs not are not not not welcome     P\n",
       "3           4  not I'm not not not saying not we not should n...     P\n",
       "4           5   not bananas not are not for not black not people     P\n",
       "6           7  not women not can not not not reproduce not ki...     P\n",
       "8           9  not Who not cares not what not Chinese not peo...     P"
      ]
     },
     "execution_count": 13,
     "metadata": {},
     "output_type": "execute_result"
    }
   ],
   "source": [
    "print(neg_data.shape)\n",
    "neg_data.head(7)"
   ]
  },
  {
   "cell_type": "markdown",
   "id": "2a3f4a33-af15-401b-9ec6-36225910e70e",
   "metadata": {},
   "source": [
    "Oversampling to Address Class Imbalance in a Dataset"
   ]
  },
  {
   "cell_type": "markdown",
   "id": "c543464c-83bb-486b-a35b-b47430b03631",
   "metadata": {},
   "source": [
    "In machine learning, class imbalance refers to a situation where the number of samples in one class is significantly lower than the number of samples in the other class. This is a common problem in many real-world datasets, such as fraud detection or medical diagnosis, where the number of negative examples is much larger than the number of positive examples.\n",
    "\n",
    "Class imbalance can pose a challenge when building predictive models, as the model may become biased towards the majority class and perform poorly on the minority class. To address this problem, one common approach is to oversample the minority class to create a balanced dataset."
   ]
  },
  {
   "cell_type": "code",
   "execution_count": 14,
   "id": "ef377f21-7c54-40c8-a736-9fe3d7a3a7ab",
   "metadata": {},
   "outputs": [
    {
     "data": {
      "text/plain": [
       "(18950, 3)"
      ]
     },
     "execution_count": 14,
     "metadata": {},
     "output_type": "execute_result"
    }
   ],
   "source": [
    "# Oversample 1-class and concat the DataFrames of both classes\n",
    "df_positive_oversampled = original_positives_df.sample(18950, replace=True)\n",
    "df_positive_oversampled.shape"
   ]
  },
  {
   "cell_type": "markdown",
   "id": "db0a8b8a-bbce-42c1-9d85-8622592f005f",
   "metadata": {},
   "source": [
    "In the given above code, we can see that the original dataset has a class imbalance with fewer positive examples compared to negative examples. To address this, we oversample the positive class by randomly sampling with replacement to create a new dataset with a balanced class distribution.\n",
    "\n",
    "After oversampling, the new dataset can be used to train a model that is less biased towards the majority class and can perform better on the minority class. However, oversampling can also lead to overfitting, so it is important to validate the model performance on an independent dataset to ensure generalization."
   ]
  },
  {
   "cell_type": "markdown",
   "id": "7a781c0d-f30f-4994-b9a0-030c356c7f30",
   "metadata": {},
   "source": [
    "Concatenating Oversampled Negative Examples with Original Negative Examples"
   ]
  },
  {
   "cell_type": "code",
   "execution_count": 15,
   "id": "01c2ba3d-649c-4c22-bf08-3c8bf03e48fc",
   "metadata": {},
   "outputs": [
    {
     "data": {
      "text/plain": [
       "(41108, 3)"
      ]
     },
     "execution_count": 15,
     "metadata": {},
     "output_type": "execute_result"
    }
   ],
   "source": [
    "df_negative_oversampled = pd.concat([neg_data,original_negatives_df],ignore_index =True)\n",
    "df_negative_oversampled.shape"
   ]
  },
  {
   "cell_type": "markdown",
   "id": "9ec8c950-2b55-4c12-8723-300b3fd31d19",
   "metadata": {},
   "source": [
    "Oversampling the minority class in an imbalanced dataset"
   ]
  },
  {
   "cell_type": "code",
   "execution_count": 16,
   "id": "8730f3cb-6a43-4a52-967b-c06e4d913497",
   "metadata": {},
   "outputs": [
    {
     "data": {
      "text/plain": [
       "(41108, 3)"
      ]
     },
     "execution_count": 16,
     "metadata": {},
     "output_type": "execute_result"
    }
   ],
   "source": [
    "df_positive_oversampled = pd.concat([df_positive_oversampled,original_positives_df],ignore_index=True)\n",
    "df_positive_oversampled.shape"
   ]
  },
  {
   "cell_type": "code",
   "execution_count": null,
   "id": "e90330c9-eee0-48bc-87e3-374e6c2a6528",
   "metadata": {},
   "outputs": [],
   "source": [
    "Balancing Imbalanced Datasets using Oversampling"
   ]
  },
  {
   "cell_type": "markdown",
   "id": "c4bfd502-5a5c-414c-901f-7d4e678f33ad",
   "metadata": {},
   "source": [
    "In machine learning, having an imbalanced dataset can lead to poor performance of the model, as the model may be biased towards the majority class. One approach to tackle this issue is to use oversampling, which involves increasing the number of samples in the minority class to match the number of samples in the majority class."
   ]
  },
  {
   "cell_type": "code",
   "execution_count": 18,
   "id": "934f2297-b9f4-4b4d-a200-a814a84d1cad",
   "metadata": {},
   "outputs": [
    {
     "data": {
      "text/plain": [
       "label\n",
       "N    41108\n",
       "P    41108\n",
       "Name: count, dtype: int64"
      ]
     },
     "execution_count": 18,
     "metadata": {},
     "output_type": "execute_result"
    }
   ],
   "source": [
    "# Combine the negated examples with the original positive examples\n",
    "df_balanced = pd.concat([df_positive_oversampled, df_negative_oversampled], ignore_index=True)\n",
    "df_balanced.label.value_counts()"
   ]
  },
  {
   "cell_type": "code",
   "execution_count": 19,
   "id": "3d24e360-9899-41d8-ac2c-0d938e39fb61",
   "metadata": {},
   "outputs": [
    {
     "data": {
      "text/html": [
       "<div>\n",
       "<style scoped>\n",
       "    .dataframe tbody tr th:only-of-type {\n",
       "        vertical-align: middle;\n",
       "    }\n",
       "\n",
       "    .dataframe tbody tr th {\n",
       "        vertical-align: top;\n",
       "    }\n",
       "\n",
       "    .dataframe thead th {\n",
       "        text-align: right;\n",
       "    }\n",
       "</style>\n",
       "<table border=\"1\" class=\"dataframe\">\n",
       "  <thead>\n",
       "    <tr style=\"text-align: right;\">\n",
       "      <th></th>\n",
       "      <th>Unnamed: 0</th>\n",
       "      <th>comment</th>\n",
       "      <th>label</th>\n",
       "    </tr>\n",
       "  </thead>\n",
       "  <tbody>\n",
       "    <tr>\n",
       "      <th>19675</th>\n",
       "      <td>1154</td>\n",
       "      <td>i wanna turn all black people white</td>\n",
       "      <td>N</td>\n",
       "    </tr>\n",
       "    <tr>\n",
       "      <th>19457</th>\n",
       "      <td>807</td>\n",
       "      <td>These white men are big as this whale</td>\n",
       "      <td>N</td>\n",
       "    </tr>\n",
       "    <tr>\n",
       "      <th>63179</th>\n",
       "      <td>151000</td>\n",
       "      <td>not Indians not have not no not conscience</td>\n",
       "      <td>P</td>\n",
       "    </tr>\n",
       "    <tr>\n",
       "      <th>68233</th>\n",
       "      <td>10093</td>\n",
       "      <td>You are a lovely people, I'm not disputing tha...</td>\n",
       "      <td>P</td>\n",
       "    </tr>\n",
       "    <tr>\n",
       "      <th>58388</th>\n",
       "      <td>33774</td>\n",
       "      <td>not Personally not I not don't not see not a n...</td>\n",
       "      <td>P</td>\n",
       "    </tr>\n",
       "  </tbody>\n",
       "</table>\n",
       "</div>"
      ],
      "text/plain": [
       "       Unnamed: 0                                            comment label\n",
       "19675        1154                i wanna turn all black people white     N\n",
       "19457         807              These white men are big as this whale     N\n",
       "63179      151000         not Indians not have not no not conscience     P\n",
       "68233       10093  You are a lovely people, I'm not disputing tha...     P\n",
       "58388       33774  not Personally not I not don't not see not a n...     P"
      ]
     },
     "execution_count": 19,
     "metadata": {},
     "output_type": "execute_result"
    }
   ],
   "source": [
    "df_balanced.sample(5)"
   ]
  },
  {
   "cell_type": "code",
   "execution_count": 20,
   "id": "11052a20-cb24-483a-9a67-a62a44ee1101",
   "metadata": {},
   "outputs": [],
   "source": [
    "import re"
   ]
  },
  {
   "cell_type": "markdown",
   "id": "1e9518a8-e2fc-44cd-8727-5d3f3a5c2a8a",
   "metadata": {},
   "source": [
    "This function is used as a preprocessing step to remove unwanted characters or symbols from a text corpus before further analysis or processing is done."
   ]
  },
  {
   "cell_type": "code",
   "execution_count": 23,
   "id": "90ffb649-d492-412d-b0b4-93822ead538b",
   "metadata": {},
   "outputs": [],
   "source": [
    "def clean (comment):\n",
    "    clean_text = re.sub(r'[^\\w\\s]', '', comment)\n",
    "    return clean_text"
   ]
  },
  {
   "cell_type": "code",
   "execution_count": 25,
   "id": "246d5a6b-f0eb-4324-888a-5420bae20722",
   "metadata": {},
   "outputs": [
    {
     "data": {
      "text/html": [
       "<div>\n",
       "<style scoped>\n",
       "    .dataframe tbody tr th:only-of-type {\n",
       "        vertical-align: middle;\n",
       "    }\n",
       "\n",
       "    .dataframe tbody tr th {\n",
       "        vertical-align: top;\n",
       "    }\n",
       "\n",
       "    .dataframe thead th {\n",
       "        text-align: right;\n",
       "    }\n",
       "</style>\n",
       "<table border=\"1\" class=\"dataframe\">\n",
       "  <thead>\n",
       "    <tr style=\"text-align: right;\">\n",
       "      <th></th>\n",
       "      <th>Unnamed: 0</th>\n",
       "      <th>comment</th>\n",
       "      <th>label</th>\n",
       "    </tr>\n",
       "  </thead>\n",
       "  <tbody>\n",
       "    <tr>\n",
       "      <th>16844</th>\n",
       "      <td>25940</td>\n",
       "      <td>illiterate and a Jocker you mum be incredible ...</td>\n",
       "      <td>N</td>\n",
       "    </tr>\n",
       "    <tr>\n",
       "      <th>73074</th>\n",
       "      <td>20495</td>\n",
       "      <td>Wait wait  BLM is fascist because they want to...</td>\n",
       "      <td>P</td>\n",
       "    </tr>\n",
       "    <tr>\n",
       "      <th>75684</th>\n",
       "      <td>25908</td>\n",
       "      <td>New antismoking add is warning the younger gen...</td>\n",
       "      <td>P</td>\n",
       "    </tr>\n",
       "    <tr>\n",
       "      <th>35032</th>\n",
       "      <td>31168</td>\n",
       "      <td>its never going to end is it unless we the peo...</td>\n",
       "      <td>N</td>\n",
       "    </tr>\n",
       "    <tr>\n",
       "      <th>70350</th>\n",
       "      <td>14713</td>\n",
       "      <td>The only thing that you can expect women to be...</td>\n",
       "      <td>P</td>\n",
       "    </tr>\n",
       "    <tr>\n",
       "      <th>11486</th>\n",
       "      <td>6003</td>\n",
       "      <td>gay ppl ruin british culture</td>\n",
       "      <td>N</td>\n",
       "    </tr>\n",
       "  </tbody>\n",
       "</table>\n",
       "</div>"
      ],
      "text/plain": [
       "       Unnamed: 0                                            comment label\n",
       "16844       25940  illiterate and a Jocker you mum be incredible ...     N\n",
       "73074       20495  Wait wait  BLM is fascist because they want to...     P\n",
       "75684       25908  New antismoking add is warning the younger gen...     P\n",
       "35032       31168  its never going to end is it unless we the peo...     N\n",
       "70350       14713  The only thing that you can expect women to be...     P\n",
       "11486        6003                       gay ppl ruin british culture     N"
      ]
     },
     "execution_count": 25,
     "metadata": {},
     "output_type": "execute_result"
    }
   ],
   "source": [
    "df_balanced['comment'] = df_balanced.comment.apply(clean)\n",
    "df_balanced.sample(6)"
   ]
  },
  {
   "cell_type": "code",
   "execution_count": null,
   "id": "854b258f-97af-48ad-beb6-b6f844f9eee5",
   "metadata": {},
   "outputs": [],
   "source": []
  }
 ],
 "metadata": {
  "kernelspec": {
   "display_name": "Python 3",
   "language": "python",
   "name": "python3"
  },
  "language_info": {
   "codemirror_mode": {
    "name": "ipython",
    "version": 3
   },
   "file_extension": ".py",
   "mimetype": "text/x-python",
   "name": "python",
   "nbconvert_exporter": "python",
   "pygments_lexer": "ipython3",
   "version": "3.11.7"
  }
 },
 "nbformat": 4,
 "nbformat_minor": 5
}
