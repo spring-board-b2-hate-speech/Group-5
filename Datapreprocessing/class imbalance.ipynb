{
 "cells": [
  {
   "cell_type": "code",
   "execution_count": 1,
   "id": "4d4987ed-d261-43b9-98b0-5acdb3ab3c54",
   "metadata": {},
   "outputs": [
    {
     "name": "stdout",
     "output_type": "stream",
     "text": [
      "Dataset Info:\n",
      "\n",
      "<class 'pandas.core.frame.DataFrame'>\n",
      "RangeIndex: 41144 entries, 0 to 41143\n",
      "Data columns (total 2 columns):\n",
      " #   Column   Non-Null Count  Dtype \n",
      "---  ------   --------------  ----- \n",
      " 0   comment  41144 non-null  object\n",
      " 1   label    41144 non-null  object\n",
      "dtypes: object(2)\n",
      "memory usage: 643.0+ KB\n",
      "None\n"
     ]
    }
   ],
   "source": [
    "import pandas as pd\n",
    "# Load dataset with specified encoding\n",
    "try:\n",
    "    df = pd.read_csv('Downloads/hatspeech dataset.csv', encoding='utf-8')\n",
    "except UnicodeDecodeError:\n",
    "    df = pd.read_csv('Downloads/hatspeech dataset.csv', encoding='latin1')\n",
    "\n",
    "# General dataset information\n",
    "print(\"Dataset Info:\\n\")\n",
    "print(df.info())"
   ]
  },
  {
   "cell_type": "code",
   "execution_count": 2,
   "id": "e1a6effe-cf34-45ca-9291-59f16336ce56",
   "metadata": {},
   "outputs": [
    {
     "name": "stdout",
     "output_type": "stream",
     "text": [
      "\n",
      "First few rows of the dataset:\n",
      "\n",
      "                                             comment label\n",
      "0                                dalits are lowlives     N\n",
      "1             gay people are a burden to our society     N\n",
      "2                              Arabs are not welcome     N\n",
      "3  I'm not saying we should actually eliminate he...     N\n",
      "4                       bananas are for black people     N\n"
     ]
    }
   ],
   "source": [
    "# Display first few rows of the dataset\n",
    "print(\"\\nFirst few rows of the dataset:\\n\")\n",
    "print(df.head())"
   ]
  },
  {
   "cell_type": "code",
   "execution_count": 4,
   "id": "99e0cdae-7860-4496-b770-eab5a604b8b3",
   "metadata": {},
   "outputs": [
    {
     "name": "stdout",
     "output_type": "stream",
     "text": [
      "\n",
      "Number of duplicate rows: 10\n"
     ]
    }
   ],
   "source": [
    "# Check for duplicates\n",
    "duplicates = df.duplicated().sum()\n",
    "print(\"\\nNumber of duplicate rows:\", duplicates)"
   ]
  },
  {
   "cell_type": "code",
   "execution_count": 6,
   "id": "3a1b896f-3817-44be-ae44-717ab3b8076f",
   "metadata": {},
   "outputs": [
    {
     "name": "stdout",
     "output_type": "stream",
     "text": [
      "\n",
      "duplicate rows:\n",
      "\n",
      "                        comment label\n",
      "41047  Blacks are such pondlife     N\n",
      "41048  Blacks are such pondlife     N\n",
      "41051  Blacks are such pondlife     N\n",
      "41055  Blacks are such pondlife     N\n",
      "41094    Muslims are a disgrace     N\n"
     ]
    }
   ],
   "source": [
    "# Display duplicate rows\n",
    "if duplicates > 0:\n",
    "    print(\"\\nduplicate rows:\\n\")\n",
    "    print(df[df.duplicated()].head())"
   ]
  },
  {
   "cell_type": "code",
   "execution_count": 7,
   "id": "0b46b729-95cf-4d61-a969-72365d62a0d6",
   "metadata": {},
   "outputs": [
    {
     "name": "stdout",
     "output_type": "stream",
     "text": [
      "\n",
      "Duplicates removed. Number of rows now: 41134\n"
     ]
    }
   ],
   "source": [
    "# Remove duplicates\n",
    "df = df.drop_duplicates()\n",
    "print(\"\\nDuplicates removed. Number of rows now:\", len(df))"
   ]
  },
  {
   "cell_type": "code",
   "execution_count": 8,
   "id": "f642b152-3e8f-41c3-a902-18b375888fb7",
   "metadata": {},
   "outputs": [
    {
     "name": "stdout",
     "output_type": "stream",
     "text": [
      "\n",
      "Null values in each column:\n",
      " comment    0\n",
      "label      0\n",
      "dtype: int64\n"
     ]
    }
   ],
   "source": [
    "# Check for null values\n",
    "null_values = df.isnull().sum()\n",
    "print(\"\\nNull values in each column:\\n\", null_values)"
   ]
  },
  {
   "cell_type": "code",
   "execution_count": 10,
   "id": "57c0c013-57d2-46e0-af2d-e4872a862db0",
   "metadata": {},
   "outputs": [
    {
     "name": "stdout",
     "output_type": "stream",
     "text": [
      "\n",
      "Statistical Summary:\n",
      "\n",
      "                    comment  label\n",
      "count                 41134  41134\n",
      "unique                41134      3\n",
      "top     dalits are lowlives      N\n",
      "freq                      1  22151\n"
     ]
    }
   ],
   "source": [
    "# Statistical summary of the dataset\n",
    "print(\"\\nStatistical Summary:\\n\")\n",
    "print(df.describe(include='all'))"
   ]
  },
  {
   "cell_type": "code",
   "execution_count": 12,
   "id": "22c141f9-c706-4e10-a994-416fcd3369ec",
   "metadata": {},
   "outputs": [
    {
     "name": "stdout",
     "output_type": "stream",
     "text": [
      "\n",
      "Column Names:\n",
      " Index(['comment', 'label'], dtype='object')\n"
     ]
    }
   ],
   "source": [
    "# Display column names\n",
    "print(\"\\nColumn Names:\\n\", df.columns)"
   ]
  },
  {
   "cell_type": "code",
   "execution_count": 13,
   "id": "d9a62943-343c-496a-88f0-b3b963704906",
   "metadata": {},
   "outputs": [
    {
     "name": "stdout",
     "output_type": "stream",
     "text": [
      "\n",
      "Data Types:\n",
      " comment    object\n",
      "label      object\n",
      "dtype: object\n"
     ]
    }
   ],
   "source": [
    "# Check data types of each column\n",
    "print(\"\\nData Types:\\n\", df.dtypes)"
   ]
  },
  {
   "cell_type": "code",
   "execution_count": 14,
   "id": "d9ce6d4b-e29a-41cb-80dd-b15d657187f3",
   "metadata": {},
   "outputs": [
    {
     "name": "stdout",
     "output_type": "stream",
     "text": [
      "\n",
      "Distribution of Labels:\n",
      " label\n",
      "N    22151\n",
      "P    18947\n",
      "O       36\n",
      "Name: count, dtype: int64\n"
     ]
    }
   ],
   "source": [
    "# Distribution of hate/non-hate labels\n",
    "label_counts = df['label'].value_counts()\n",
    "print(\"\\nDistribution of Labels:\\n\", label_counts)"
   ]
  },
  {
   "cell_type": "code",
   "execution_count": 15,
   "id": "5fec04c8-fafa-4287-8511-fcbff512bba5",
   "metadata": {},
   "outputs": [
    {
     "name": "stdout",
     "output_type": "stream",
     "text": [
      "\n",
      "First few hate comments:\n",
      " Empty DataFrame\n",
      "Columns: [comment, label]\n",
      "Index: []\n",
      "\n",
      "First few non-hate comments:\n",
      " Empty DataFrame\n",
      "Columns: [comment, label]\n",
      "Index: []\n"
     ]
    }
   ],
   "source": []
  },
  {
   "cell_type": "code",
   "execution_count": 28,
   "id": "f9779aee-67a6-4b34-a50c-8d49d2c4a6e7",
   "metadata": {},
   "outputs": [
    {
     "data": {
      "text/plain": [
       "(18947, 2)"
      ]
     },
     "execution_count": 28,
     "metadata": {},
     "output_type": "execute_result"
    }
   ],
   "source": [
    "original_negatives_df = df[df['label'] == 'P']\n",
    "original_negatives_df.shape"
   ]
  },
  {
   "cell_type": "code",
   "execution_count": 29,
   "id": "8b0a4e7d-9c41-4147-a44c-71d1c4b81adb",
   "metadata": {},
   "outputs": [
    {
     "data": {
      "text/plain": [
       "(22151, 2)"
      ]
     },
     "execution_count": 29,
     "metadata": {},
     "output_type": "execute_result"
    }
   ],
   "source": [
    "original_positives_df = df[df['label'] == 'N']\n",
    "original_positives_df.shape"
   ]
  },
  {
   "cell_type": "code",
   "execution_count": 30,
   "id": "70c40cf7-e705-456b-b53e-d3cabba918c6",
   "metadata": {},
   "outputs": [],
   "source": [
    "from textblob import TextBlob\n",
    "\n",
    "# Generate negated versions of the positive examples\n",
    "neg_data = original_positives_df.copy()\n",
    "\n",
    "neg_data['comment'] = neg_data['comment'].apply(lambda x: \" \".join([\"not \" + w for w in x.split()]))\n",
    "\n",
    "# Label the negated examples as negative (0)\n",
    "neg_data['sentiment_label'] = 'P'"
   ]
  },
  {
   "cell_type": "code",
   "execution_count": 31,
   "id": "7c4c438c-2ec9-46ba-ac77-573f756c80f1",
   "metadata": {},
   "outputs": [
    {
     "name": "stdout",
     "output_type": "stream",
     "text": [
      "(22151, 3)\n"
     ]
    },
    {
     "data": {
      "text/html": [
       "<div>\n",
       "<style scoped>\n",
       "    .dataframe tbody tr th:only-of-type {\n",
       "        vertical-align: middle;\n",
       "    }\n",
       "\n",
       "    .dataframe tbody tr th {\n",
       "        vertical-align: top;\n",
       "    }\n",
       "\n",
       "    .dataframe thead th {\n",
       "        text-align: right;\n",
       "    }\n",
       "</style>\n",
       "<table border=\"1\" class=\"dataframe\">\n",
       "  <thead>\n",
       "    <tr style=\"text-align: right;\">\n",
       "      <th></th>\n",
       "      <th>comment</th>\n",
       "      <th>label</th>\n",
       "      <th>sentiment_label</th>\n",
       "    </tr>\n",
       "  </thead>\n",
       "  <tbody>\n",
       "    <tr>\n",
       "      <th>0</th>\n",
       "      <td>not dalits not are not lowlives</td>\n",
       "      <td>N</td>\n",
       "      <td>P</td>\n",
       "    </tr>\n",
       "    <tr>\n",
       "      <th>1</th>\n",
       "      <td>not gay not people not are not a not burden no...</td>\n",
       "      <td>N</td>\n",
       "      <td>P</td>\n",
       "    </tr>\n",
       "    <tr>\n",
       "      <th>2</th>\n",
       "      <td>not Arabs not are not not not welcome</td>\n",
       "      <td>N</td>\n",
       "      <td>P</td>\n",
       "    </tr>\n",
       "    <tr>\n",
       "      <th>3</th>\n",
       "      <td>not I'm not not not saying not we not should n...</td>\n",
       "      <td>N</td>\n",
       "      <td>P</td>\n",
       "    </tr>\n",
       "    <tr>\n",
       "      <th>4</th>\n",
       "      <td>not bananas not are not for not black not people</td>\n",
       "      <td>N</td>\n",
       "      <td>P</td>\n",
       "    </tr>\n",
       "    <tr>\n",
       "      <th>6</th>\n",
       "      <td>not women not can not not not reproduce not ki...</td>\n",
       "      <td>N</td>\n",
       "      <td>P</td>\n",
       "    </tr>\n",
       "    <tr>\n",
       "      <th>8</th>\n",
       "      <td>not Who not cares not what not Chinese not peo...</td>\n",
       "      <td>N</td>\n",
       "      <td>P</td>\n",
       "    </tr>\n",
       "  </tbody>\n",
       "</table>\n",
       "</div>"
      ],
      "text/plain": [
       "                                             comment label sentiment_label\n",
       "0                    not dalits not are not lowlives     N               P\n",
       "1  not gay not people not are not a not burden no...     N               P\n",
       "2              not Arabs not are not not not welcome     N               P\n",
       "3  not I'm not not not saying not we not should n...     N               P\n",
       "4   not bananas not are not for not black not people     N               P\n",
       "6  not women not can not not not reproduce not ki...     N               P\n",
       "8  not Who not cares not what not Chinese not peo...     N               P"
      ]
     },
     "execution_count": 31,
     "metadata": {},
     "output_type": "execute_result"
    }
   ],
   "source": [
    "print(neg_data.shape)\n",
    "neg_data.head(7)"
   ]
  },
  {
   "cell_type": "code",
   "execution_count": 32,
   "id": "c86ba753-fa8b-41cc-b1a2-a23d67dcf8b9",
   "metadata": {},
   "outputs": [
    {
     "data": {
      "text/plain": [
       "(18947, 2)"
      ]
     },
     "execution_count": 32,
     "metadata": {},
     "output_type": "execute_result"
    }
   ],
   "source": [
    "# Oversample 1-class and concat the DataFrames of both classes\n",
    "df_positive_oversampled = original_positives_df.sample(18947, replace=True)\n",
    "df_positive_oversampled.shape"
   ]
  },
  {
   "cell_type": "code",
   "execution_count": 33,
   "id": "5870c0f6-8e28-4b41-9124-89ebf63d0684",
   "metadata": {},
   "outputs": [
    {
     "data": {
      "text/plain": [
       "(41098, 3)"
      ]
     },
     "execution_count": 33,
     "metadata": {},
     "output_type": "execute_result"
    }
   ],
   "source": [
    "df_negative_oversampled = pd.concat([neg_data,original_negatives_df],ignore_index =True)\n",
    "df_negative_oversampled.shape"
   ]
  },
  {
   "cell_type": "code",
   "execution_count": 34,
   "id": "5a7c787b-c5c8-4694-88a1-8808ebe15501",
   "metadata": {},
   "outputs": [
    {
     "data": {
      "text/plain": [
       "(41098, 2)"
      ]
     },
     "execution_count": 34,
     "metadata": {},
     "output_type": "execute_result"
    }
   ],
   "source": [
    "df_positive_oversampled = pd.concat([df_positive_oversampled,original_positives_df],ignore_index=True)\n",
    "df_positive_oversampled.shape"
   ]
  },
  {
   "cell_type": "code",
   "execution_count": 35,
   "id": "b21074c8-006a-4502-abc8-c68f864eb478",
   "metadata": {},
   "outputs": [
    {
     "data": {
      "text/plain": [
       "sentiment_label\n",
       "P    22151\n",
       "Name: count, dtype: int64"
      ]
     },
     "execution_count": 35,
     "metadata": {},
     "output_type": "execute_result"
    }
   ],
   "source": [
    "# Combine the negated examples with the original positive examples\n",
    "df_balanced = pd.concat([df_positive_oversampled, df_negative_oversampled], ignore_index=True)\n",
    "df_balanced.sentiment_label.value_counts()"
   ]
  },
  {
   "cell_type": "code",
   "execution_count": null,
   "id": "002735d7-df00-4f72-9983-e5300b2b21d5",
   "metadata": {},
   "outputs": [],
   "source": []
  }
 ],
 "metadata": {
  "kernelspec": {
   "display_name": "Python 3",
   "language": "python",
   "name": "python3"
  },
  "language_info": {
   "codemirror_mode": {
    "name": "ipython",
    "version": 3
   },
   "file_extension": ".py",
   "mimetype": "text/x-python",
   "name": "python",
   "nbconvert_exporter": "python",
   "pygments_lexer": "ipython3",
   "version": "3.11.7"
  }
 },
 "nbformat": 4,
 "nbformat_minor": 5
}
