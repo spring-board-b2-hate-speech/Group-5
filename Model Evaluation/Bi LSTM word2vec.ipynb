{
 "cells": [
  {
   "cell_type": "markdown",
   "id": "06b3e024-5d92-4170-a906-18980c575e7e",
   "metadata": {},
   "source": [
    "# Importing Necessary Libraries:"
   ]
  },
  {
   "cell_type": "markdown",
   "id": "ebb86919-cb92-43cf-910a-efa045c0072f",
   "metadata": {},
   "source": [
    "Numpy and Pandas: For numerical operations and data manipulation.\n",
    "Scikit-learn: For data splitting and preprocessing.\n",
    "TensorFlow/Keras: For building and training the deep learning model.\n",
    "Matplotlib: For plotting the model's performance."
   ]
  },
  {
   "cell_type": "code",
   "execution_count": 1,
   "id": "68b072cb-a05e-4bb1-96b6-1d707267c289",
   "metadata": {},
   "outputs": [],
   "source": [
    "import numpy as np\n",
    "import pandas as pd\n",
    "from sklearn.model_selection import train_test_split\n",
    "from sklearn.preprocessing import LabelEncoder\n",
    "from tensorflow.keras.models import Sequential\n",
    "from tensorflow.keras.layers import Embedding, LSTM, Bidirectional, Dense, Dropout\n",
    "from tensorflow.keras.preprocessing.sequence import pad_sequences\n",
    "from tensorflow.keras.utils import to_categorical\n",
    "import matplotlib.pyplot as plt"
   ]
  },
  {
   "cell_type": "markdown",
   "id": "fffa87ea-9cbe-4c8a-b8b8-a9431b910cf6",
   "metadata": {},
   "source": [
    "# Load the dataset"
   ]
  },
  {
   "cell_type": "code",
   "execution_count": 2,
   "id": "13151c81-4358-4495-98dd-c3a70a5b08b5",
   "metadata": {},
   "outputs": [],
   "source": [
    "# Load the dataset\n",
    "file_path = 'balanced_hatespeech_dataset.csv'\n",
    "df = pd.read_csv(file_path) "
   ]
  },
  {
   "cell_type": "markdown",
   "id": "8e553f48-5830-4828-a488-ac69d0936224",
   "metadata": {},
   "source": [
    "# Separate features and target"
   ]
  },
  {
   "cell_type": "code",
   "execution_count": 3,
   "id": "08cd922d-950e-4a5c-9dfd-8a8f5977458f",
   "metadata": {},
   "outputs": [],
   "source": [
    "# Separate features and target\n",
    "X = df.drop(columns=['label'])\n",
    "y = df['label']"
   ]
  },
  {
   "cell_type": "markdown",
   "id": "f21fe992-406b-4297-910c-cd43e9b74d39",
   "metadata": {},
   "source": [
    "# Verify unique values in original labels"
   ]
  },
  {
   "cell_type": "code",
   "execution_count": 4,
   "id": "5fd8d0eb-3b1c-4d18-8793-82247f80d834",
   "metadata": {},
   "outputs": [
    {
     "name": "stdout",
     "output_type": "stream",
     "text": [
      "Unique values in original labels: ['N' 'P']\n"
     ]
    }
   ],
   "source": [
    "# Verify unique values in original labels\n",
    "print(\"Unique values in original labels:\", y.unique())"
   ]
  },
  {
   "cell_type": "markdown",
   "id": "717d1366-ece6-4fc8-aa84-8709e09416ce",
   "metadata": {},
   "source": [
    "# Encode categorical labels"
   ]
  },
  {
   "cell_type": "code",
   "execution_count": 5,
   "id": "856e0b76-c0c0-46d2-8d6b-a0d2870bc235",
   "metadata": {},
   "outputs": [],
   "source": [
    "# Encode categorical labels\n",
    "label_encoder = LabelEncoder()\n",
    "y_encoded = label_encoder.fit_transform(y)"
   ]
  },
  {
   "cell_type": "markdown",
   "id": "f209498b-feaa-4626-a20c-5b5bc8980274",
   "metadata": {},
   "source": [
    "# Verify the unique values in y_encoded"
   ]
  },
  {
   "cell_type": "code",
   "execution_count": 6,
   "id": "2b41ccb6-cddb-4f39-a427-ad5f840ced1a",
   "metadata": {},
   "outputs": [
    {
     "name": "stdout",
     "output_type": "stream",
     "text": [
      "Unique encoded labels: [0 1]\n"
     ]
    }
   ],
   "source": [
    "# Verify the unique values in y_encoded\n",
    "print(\"Unique encoded labels:\", np.unique(y_encoded))"
   ]
  },
  {
   "cell_type": "markdown",
   "id": "33b009a8-dde7-4502-bdd3-5ae1999c85cf",
   "metadata": {},
   "source": [
    "# Split the data into training and test sets"
   ]
  },
  {
   "cell_type": "code",
   "execution_count": 7,
   "id": "b3d31670-0d4d-44ea-9948-4337d2227677",
   "metadata": {},
   "outputs": [],
   "source": [
    "# Split the data into training and test sets\n",
    "X_train, X_test, y_train, y_test = train_test_split(X, y_encoded, test_size=0.2, random_state=42)"
   ]
  },
  {
   "cell_type": "markdown",
   "id": "480ff1c3-7bb4-4f80-9d61-25ca95e160fc",
   "metadata": {},
   "source": [
    "# Verify unique values in y_train and y_test after split"
   ]
  },
  {
   "cell_type": "code",
   "execution_count": 8,
   "id": "ad7bef9c-3a1a-4201-81ce-2d6d21d0a2c0",
   "metadata": {},
   "outputs": [
    {
     "name": "stdout",
     "output_type": "stream",
     "text": [
      "Unique values in y_train: [0 1]\n",
      "Unique values in y_test: [0 1]\n"
     ]
    }
   ],
   "source": [
    "# Verify unique values in y_train and y_test after split\n",
    "print(\"Unique values in y_train:\", np.unique(y_train))\n",
    "print(\"Unique values in y_test:\", np.unique(y_test))"
   ]
  },
  {
   "cell_type": "markdown",
   "id": "4ba0702a-a7a9-47dc-baa7-7f42e98ac554",
   "metadata": {},
   "source": [
    "# Convert the DataFrame to numpy arrays"
   ]
  },
  {
   "cell_type": "code",
   "execution_count": 9,
   "id": "85c70069-e7e9-47d3-b0a6-799b1d40b427",
   "metadata": {},
   "outputs": [],
   "source": [
    "# Convert the DataFrame to numpy arrays if necessary\n",
    "X_train = X_train.to_numpy()\n",
    "X_test = X_test.to_numpy()"
   ]
  },
  {
   "cell_type": "markdown",
   "id": "60415f07-0595-4201-b98f-805c4600de80",
   "metadata": {},
   "source": [
    "# Pad sequences to ensure uniform input length"
   ]
  },
  {
   "cell_type": "code",
   "execution_count": 10,
   "id": "6a0ea1d8-d7dc-4da6-960e-ee1f30f77ca2",
   "metadata": {},
   "outputs": [],
   "source": [
    "# Pad sequences to ensure uniform input length\n",
    "max_sequence_length = 100  # Adjust based on your data\n",
    "X_train_padded = pad_sequences(X_train, maxlen=max_sequence_length, padding='post')\n",
    "X_test_padded = pad_sequences(X_test, maxlen=max_sequence_length, padding='post')"
   ]
  },
  {
   "cell_type": "markdown",
   "id": "147e3532-7fa2-4eee-bf80-6ef1caf5b86c",
   "metadata": {},
   "source": [
    "# Convert labels to categorical (one-hot encoding)"
   ]
  },
  {
   "cell_type": "code",
   "execution_count": 11,
   "id": "00b469a0-a299-4d6b-bf9b-063f747a6e84",
   "metadata": {},
   "outputs": [],
   "source": [
    "# Convert labels to categorical (one-hot encoding)\n",
    "y_train_categorical = to_categorical(y_train, num_classes=2)\n",
    "y_test_categorical = to_categorical(y_test, num_classes=2)"
   ]
  },
  {
   "cell_type": "markdown",
   "id": "caa49342-47c7-432b-8dc8-c55b0310c585",
   "metadata": {},
   "source": [
    "# Build the BiLSTM model"
   ]
  },
  {
   "cell_type": "code",
   "execution_count": 12,
   "id": "6cc4d76a-7b7b-4101-873c-c147433907e3",
   "metadata": {},
   "outputs": [],
   "source": [
    "# Build the BiLSTM model\n",
    "model = Sequential()\n",
    "model.add(Embedding(input_dim=X_train_padded.shape[1], output_dim=100))  # Adjust input_dim and output_dim based on your embeddings\n",
    "model.add(Bidirectional(LSTM(units=64, return_sequences=False)))\n",
    "model.add(Dropout(0.5))\n",
    "model.add(Dense(64, activation='relu'))\n",
    "model.add(Dropout(0.5))\n",
    "model.add(Dense(2, activation='softmax'))\n",
    "\n",
    "model.compile(loss='categorical_crossentropy', optimizer='adam', metrics=['accuracy'])"
   ]
  },
  {
   "cell_type": "markdown",
   "id": "647d7ea8-d58a-4d68-9053-d924f8826ac2",
   "metadata": {},
   "source": [
    "# Train the model"
   ]
  },
  {
   "cell_type": "code",
   "execution_count": 13,
   "id": "f526768b-416d-42b3-8204-22b5a43bff8b",
   "metadata": {},
   "outputs": [
    {
     "name": "stdout",
     "output_type": "stream",
     "text": [
      "Epoch 1/10\n",
      "\u001b[1m758/758\u001b[0m \u001b[32m━━━━━━━━━━━━━━━━━━━━\u001b[0m\u001b[37m\u001b[0m \u001b[1m610s\u001b[0m 704ms/step - accuracy: 0.4973 - loss: 0.6943 - val_accuracy: 0.5092 - val_loss: 0.6921\n",
      "Epoch 2/10\n",
      "\u001b[1m758/758\u001b[0m \u001b[32m━━━━━━━━━━━━━━━━━━━━\u001b[0m\u001b[37m\u001b[0m \u001b[1m607s\u001b[0m 801ms/step - accuracy: 0.5241 - loss: 0.6901 - val_accuracy: 0.5355 - val_loss: 0.6910\n",
      "Epoch 3/10\n",
      "\u001b[1m758/758\u001b[0m \u001b[32m━━━━━━━━━━━━━━━━━━━━\u001b[0m\u001b[37m\u001b[0m \u001b[1m498s\u001b[0m 657ms/step - accuracy: 0.5389 - loss: 0.6854 - val_accuracy: 0.5497 - val_loss: 0.6808\n",
      "Epoch 4/10\n",
      "\u001b[1m758/758\u001b[0m \u001b[32m━━━━━━━━━━━━━━━━━━━━\u001b[0m\u001b[37m\u001b[0m \u001b[1m461s\u001b[0m 608ms/step - accuracy: 0.5446 - loss: 0.6814 - val_accuracy: 0.5464 - val_loss: 0.6787\n",
      "Epoch 5/10\n",
      "\u001b[1m758/758\u001b[0m \u001b[32m━━━━━━━━━━━━━━━━━━━━\u001b[0m\u001b[37m\u001b[0m \u001b[1m472s\u001b[0m 621ms/step - accuracy: 0.5563 - loss: 0.6775 - val_accuracy: 0.5553 - val_loss: 0.6776\n",
      "Epoch 6/10\n",
      "\u001b[1m758/758\u001b[0m \u001b[32m━━━━━━━━━━━━━━━━━━━━\u001b[0m\u001b[37m\u001b[0m \u001b[1m527s\u001b[0m 653ms/step - accuracy: 0.5520 - loss: 0.6760 - val_accuracy: 0.5566 - val_loss: 0.6760\n",
      "Epoch 7/10\n",
      "\u001b[1m758/758\u001b[0m \u001b[32m━━━━━━━━━━━━━━━━━━━━\u001b[0m\u001b[37m\u001b[0m \u001b[1m517s\u001b[0m 681ms/step - accuracy: 0.5614 - loss: 0.6740 - val_accuracy: 0.5655 - val_loss: 0.6793\n",
      "Epoch 8/10\n",
      "\u001b[1m758/758\u001b[0m \u001b[32m━━━━━━━━━━━━━━━━━━━━\u001b[0m\u001b[37m\u001b[0m \u001b[1m549s\u001b[0m 723ms/step - accuracy: 0.5596 - loss: 0.6738 - val_accuracy: 0.5617 - val_loss: 0.6743\n",
      "Epoch 9/10\n",
      "\u001b[1m758/758\u001b[0m \u001b[32m━━━━━━━━━━━━━━━━━━━━\u001b[0m\u001b[37m\u001b[0m \u001b[1m281s\u001b[0m 368ms/step - accuracy: 0.5630 - loss: 0.6716 - val_accuracy: 0.5643 - val_loss: 0.6713\n",
      "Epoch 10/10\n",
      "\u001b[1m758/758\u001b[0m \u001b[32m━━━━━━━━━━━━━━━━━━━━\u001b[0m\u001b[37m\u001b[0m \u001b[1m323s\u001b[0m 368ms/step - accuracy: 0.5618 - loss: 0.6707 - val_accuracy: 0.5691 - val_loss: 0.6749\n"
     ]
    }
   ],
   "source": [
    "# Train the model\n",
    "history = model.fit(X_train_padded, y_train_categorical, epochs=10, batch_size=32, validation_split=0.2, verbose=1)"
   ]
  },
  {
   "cell_type": "markdown",
   "id": "20c10c63-fda1-411c-b1b0-9894f70a09b0",
   "metadata": {},
   "source": [
    "# Evaluate the model"
   ]
  },
  {
   "cell_type": "code",
   "execution_count": 14,
   "id": "d6afa8ef-5c11-4bbe-9f52-1031244c63e5",
   "metadata": {},
   "outputs": [
    {
     "name": "stdout",
     "output_type": "stream",
     "text": [
      "\u001b[1m237/237\u001b[0m \u001b[32m━━━━━━━━━━━━━━━━━━━━\u001b[0m\u001b[37m\u001b[0m \u001b[1m20s\u001b[0m 81ms/step - accuracy: 0.5590 - loss: 0.6767\n",
      "Accuracy: 0.5645288825035095\n"
     ]
    }
   ],
   "source": [
    "# Evaluate the model\n",
    "loss, accuracy = model.evaluate(X_test_padded, y_test_categorical, verbose=1)\n",
    "print(f'Accuracy: {accuracy}')"
   ]
  },
  {
   "cell_type": "markdown",
   "id": "fc4955c7-9ef2-4a5b-b793-2e43c20bff99",
   "metadata": {},
   "source": [
    "# Plot accuracy and loss over epochs"
   ]
  },
  {
   "cell_type": "code",
   "execution_count": 15,
   "id": "26a02bbd-a5c1-4519-8ecf-0dafd65813ad",
   "metadata": {},
   "outputs": [
    {
     "data": {
      "image/png": "[encoded data removed]",
      "text/plain": [
       "<Figure size 1200x400 with 2 Axes>"
      ]
     },
     "metadata": {},
     "output_type": "display_data"
    }
   ],
   "source": [
    "# Plot accuracy and loss over epochs\n",
    "plt.figure(figsize=(12, 4))\n",
    "\n",
    "plt.subplot(1, 2, 1)\n",
    "plt.plot(history.history['accuracy'], label='Train Accuracy')\n",
    "plt.plot(history.history['val_accuracy'], label='Val Accuracy')\n",
    "plt.xlabel('Epochs')\n",
    "plt.ylabel('Accuracy')\n",
    "plt.title('Model Accuracy')\n",
    "plt.legend()\n",
    "\n",
    "plt.subplot(1, 2, 2)\n",
    "plt.plot(history.history['loss'], label='Train Loss')\n",
    "plt.plot(history.history['val_loss'], label='Val Loss')\n",
    "plt.xlabel('Epochs')\n",
    "plt.ylabel('Loss')\n",
    "plt.title('Model Loss')\n",
    "plt.legend()\n",
    "\n",
    "plt.show()"
   ]
  }
 ],
 "metadata": {
  "kernelspec": {
   "display_name": "Python 3 (ipykernel)",
   "language": "python",
   "name": "python3"
  },
  "language_info": {
   "codemirror_mode": {
    "name": "ipython",
    "version": 3
   },
   "file_extension": ".py",
   "mimetype": "text/x-python",
   "name": "python",
   "nbconvert_exporter": "python",
   "pygments_lexer": "ipython3",
   "version": "3.12.4"
  }
 },
 "nbformat": 4,
 "nbformat_minor": 5
}
