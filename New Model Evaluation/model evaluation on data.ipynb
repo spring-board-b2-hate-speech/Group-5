{
 "cells": [
  {
   "cell_type": "code",
   "execution_count": 1,
   "id": "86bc74ea-abed-4707-a69e-f749bac2b576",
   "metadata": {},
   "outputs": [],
   "source": [
    "import pandas as pd\n",
    "import matplotlib.pyplot as plt\n",
    "from sklearn.feature_extraction.text import TfidfVectorizer\n",
    "from sklearn.ensemble import RandomForestClassifier, GradientBoostingClassifier\n",
    "from sklearn.svm import SVC\n",
    "from sklearn.naive_bayes import MultinomialNB\n",
    "from sklearn.linear_model import LogisticRegression\n",
    "from sklearn.metrics import classification_report\n",
    "from sklearn.utils import shuffle\n",
    "from sklearn.preprocessing import StandardScaler"
   ]
  },
  {
   "cell_type": "code",
   "execution_count": 2,
   "id": "6ad12f4e-c27c-4b3a-819d-a4289e0c84a7",
   "metadata": {},
   "outputs": [],
   "source": [
    "# Load the train and test data\n",
    "train_file_path = 'train_data.csv'\n",
    "test_file_path = 'test_data.csv'"
   ]
  },
  {
   "cell_type": "code",
   "execution_count": 3,
   "id": "258fb979-8b49-47c1-8630-c6757cadf12b",
   "metadata": {},
   "outputs": [],
   "source": [
    "train_data = pd.read_csv(train_file_path)\n",
    "test_data = pd.read_csv(test_file_path)"
   ]
  },
  {
   "cell_type": "code",
   "execution_count": 4,
   "id": "3784bef7-288d-4749-b62d-7396ed881d24",
   "metadata": {},
   "outputs": [],
   "source": [
    "# Reduce dataset size for testing\n",
    "train_data = shuffle(train_data).sample(frac=0.1, random_state=42)\n",
    "test_data = shuffle(test_data).sample(frac=0.1, random_state=42)"
   ]
  },
  {
   "cell_type": "code",
   "execution_count": 5,
   "id": "03c9668e-e29c-4a4a-8679-0f1afe3d7025",
   "metadata": {},
   "outputs": [],
   "source": [
    "# the dataset has 'comment' and 'label' columns\n",
    "X_train = train_data['comment']\n",
    "y_train = train_data['label']\n",
    "X_test = test_data['comment']\n",
    "y_test = test_data['label']"
   ]
  },
  {
   "cell_type": "code",
   "execution_count": 6,
   "id": "545e68b0-ce24-4d7e-9e81-1f683e97b690",
   "metadata": {},
   "outputs": [],
   "source": [
    "# Convert text data to TF-IDF features\n",
    "vectorizer = TfidfVectorizer(max_features=5000)\n",
    "X_train_tfidf = vectorizer.fit_transform(X_train)\n",
    "X_test_tfidf = vectorizer.transform(X_test)"
   ]
  },
  {
   "cell_type": "code",
   "execution_count": 7,
   "id": "0ec251bb-4097-42ec-9cbd-05c83cb3050b",
   "metadata": {},
   "outputs": [],
   "source": [
    "# Scale the data\n",
    "scaler = StandardScaler(with_mean=False)  # Scaling sparse matrix, with_mean=False is used\n",
    "X_train_tfidf_scaled = scaler.fit_transform(X_train_tfidf)\n",
    "X_test_tfidf_scaled = scaler.transform(X_test_tfidf)"
   ]
  },
  {
   "cell_type": "code",
   "execution_count": 8,
   "id": "d41d12b7-88dc-4173-9726-3b0ecf1c6c60",
   "metadata": {},
   "outputs": [],
   "source": [
    "# Initialize models with faster options\n",
    "models = {\n",
    "    \"Random Forest\": RandomForestClassifier(n_estimators=50, n_jobs=-1),\n",
    "    \"SVM\": SVC(kernel='linear', max_iter=1000),\n",
    "    \"Naive Bayes\": MultinomialNB(),\n",
    "    \"Logistic Regression\": LogisticRegression(max_iter=1000, solver='saga', n_jobs=-1),\n",
    "    \"Gradient Boosting\": GradientBoostingClassifier(n_estimators=50)\n",
    "}"
   ]
  },
  {
   "cell_type": "code",
   "execution_count": 9,
   "id": "4083c379-1dbd-477d-9c2f-deb4757c69c2",
   "metadata": {},
   "outputs": [
    {
     "name": "stderr",
     "output_type": "stream",
     "text": [
      "C:\\Users\\maddi\\AppData\\Local\\Programs\\Python\\Python312\\Lib\\site-packages\\sklearn\\svm\\_base.py:297: ConvergenceWarning: Solver terminated early (max_iter=1000).  Consider pre-processing your data with StandardScaler or MinMaxScaler.\n",
      "  warnings.warn(\n"
     ]
    }
   ],
   "source": [
    "# Train and evaluate models\n",
    "results = {}\n",
    "accuracies = []\n",
    "\n",
    "for model_name, model in models.items():\n",
    "    if model_name == \"SVM\":\n",
    "        model.fit(X_train_tfidf_scaled, y_train)\n",
    "    else:\n",
    "        model.fit(X_train_tfidf, y_train)\n",
    "    y_pred = model.predict(X_test_tfidf_scaled if model_name == \"SVM\" else X_test_tfidf)\n",
    "    report = classification_report(y_test, y_pred, output_dict=True)\n",
    "    results[model_name] = report\n",
    "    accuracies.append(report['accuracy'])"
   ]
  },
  {
   "cell_type": "code",
   "execution_count": 10,
   "id": "437d8eda-4ef5-481e-a775-e06857e8e348",
   "metadata": {},
   "outputs": [
    {
     "name": "stdout",
     "output_type": "stream",
     "text": [
      "Results for Random Forest:\n",
      "Accuracy: 0.5412621359223301\n",
      "Precision: 0.5518601138003334\n",
      "Recall: 0.5412621359223301\n",
      "F1 Score: 0.5193598249523693\n",
      "Support: 412.0\n",
      "\n",
      "\n",
      "Results for SVM:\n",
      "Accuracy: 0.5436893203883495\n",
      "Precision: 0.544963745409094\n",
      "Recall: 0.5436893203883495\n",
      "F1 Score: 0.5414207303618711\n",
      "Support: 412.0\n",
      "\n",
      "\n",
      "Results for Naive Bayes:\n",
      "Accuracy: 0.5461165048543689\n",
      "Precision: 0.5762918177564628\n",
      "Recall: 0.5461165048543689\n",
      "F1 Score: 0.49936431670471254\n",
      "Support: 412.0\n",
      "\n",
      "\n",
      "Results for Logistic Regression:\n",
      "Accuracy: 0.558252427184466\n",
      "Precision: 0.5647437271873499\n",
      "Recall: 0.558252427184466\n",
      "F1 Score: 0.5483616037368917\n",
      "Support: 412.0\n",
      "\n",
      "\n",
      "Results for Gradient Boosting:\n",
      "Accuracy: 0.5533980582524272\n",
      "Precision: 0.5773012513520179\n",
      "Recall: 0.5533980582524272\n",
      "F1 Score: 0.5184957725813576\n",
      "Support: 412.0\n",
      "\n",
      "\n"
     ]
    }
   ],
   "source": [
    "# Display results\n",
    "for model_name, metrics in results.items():\n",
    "    print(f\"Results for {model_name}:\")\n",
    "    print(f\"Accuracy: {metrics['accuracy']}\")\n",
    "    print(f\"Precision: {metrics['weighted avg']['precision']}\")\n",
    "    print(f\"Recall: {metrics['weighted avg']['recall']}\")\n",
    "    print(f\"F1 Score: {metrics['weighted avg']['f1-score']}\")\n",
    "    print(f\"Support: {metrics['weighted avg']['support']}\")\n",
    "    print(\"\\n\")"
   ]
  },
  {
   "cell_type": "code",
   "execution_count": null,
   "id": "0119a8cc-4573-4440-89e3-c9618cb2b34c",
   "metadata": {},
   "outputs": [],
   "source": [
    "# Plot the accuracy of each model\n",
    "plt.figure(figsize=(10, 6))\n",
    "plt.bar(models.keys(), accuracies, color=['blue', 'green', 'red', 'purple', 'orange'])\n",
    "plt.xlabel('Model')\n",
    "plt.ylabel('Accuracy')\n",
    "plt.title('Model Accuracy Comparison')\n",
    "plt.show()"
   ]
  }
 ],
 "metadata": {
  "kernelspec": {
   "display_name": "Python 3 (ipykernel)",
   "language": "python",
   "name": "python3"
  },
  "language_info": {
   "codemirror_mode": {
    "name": "ipython",
    "version": 3
   },
   "file_extension": ".py",
   "mimetype": "text/x-python",
   "name": "python",
   "nbconvert_exporter": "python",
   "pygments_lexer": "ipython3",
   "version": "3.12.4"
  }
 },
 "nbformat": 4,
 "nbformat_minor": 5
}
