{
 "cells": [
  {
   "cell_type": "code",
   "execution_count": null,
   "id": "65f3ce31-9f80-4b9d-9b73-fc05c1085a1b",
   "metadata": {},
   "outputs": [
    {
     "name": "stderr",
     "output_type": "stream",
     "text": [
      "[nltk_data] Downloading package stopwords to\n",
      "[nltk_data]     C:\\Users\\HP\\AppData\\Roaming\\nltk_data...\n",
      "[nltk_data]   Package stopwords is already up-to-date!\n"
     ]
    }
   ],
   "source": [
    "#Downloads/hatspeech dataset.csv\n",
    "import pandas as pd\n",
    "import re\n",
    "import nltk\n",
    "from nltk.corpus import stopwords\n",
    "from sklearn.feature_extraction.text import TfidfVectorizer\n",
    "nltk.download('stopwords')\n",
    "\n",
    "# Load dataset with specified encoding\n",
    "try:\n",
    "    df = pd.read_csv('Downloads/hatspeech dataset.csv', encoding='utf-8')\n",
    "except UnicodeDecodeError:\n",
    "    df = pd.read_csv('Downloads/hatspeech dataset.csv', encoding='latin1')\n",
    "\n",
    "# Data Cleaning Function\n",
    "def clean_text(text):\n",
    "    text = re.sub(r'[^\\w\\s]', '', text)  # Remove punctuation\n",
    "    text = text.lower()  # Lowercase text\n",
    "    text = re.sub(r'\\d+', '', text)  # Remove numbers\n",
    "    text = text.split()  # Tokenize\n",
    "    text = [word for word in text if word not in stopwords.words('english')]  # Remove stopwords\n",
    "    text = ' '.join(text)  # Join tokens back to string\n",
    "    return text\n",
    "\n",
    "# Apply cleaning function to comments\n",
    "df['cleaned_comments'] = df['comment'].apply(clean_text)\n",
    "\n",
    "# Feature Extraction using TF-IDF\n",
    "vectorizer = TfidfVectorizer(max_features=5000)\n",
    "X = vectorizer.fit_transform(df['cleaned_comments']).toarray()\n",
    "y = df['label']"
   ]
  },
  {
   "cell_type": "code",
   "execution_count": null,
   "id": "bc4b44d4-72d7-40bc-beb6-b80af2dda2af",
   "metadata": {},
   "outputs": [],
   "source": []
  }
 ],
 "metadata": {
  "kernelspec": {
   "display_name": "Python 3",
   "language": "python",
   "name": "python3"
  },
  "language_info": {
   "codemirror_mode": {
    "name": "ipython",
    "version": 3
   },
   "file_extension": ".py",
   "mimetype": "text/x-python",
   "name": "python",
   "nbconvert_exporter": "python",
   "pygments_lexer": "ipython3",
   "version": "3.11.7"
  }
 },
 "nbformat": 4,
 "nbformat_minor": 5
}
