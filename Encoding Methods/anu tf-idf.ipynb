{
 "cells": [
  {
   "cell_type": "code",
   "execution_count": 1,
   "id": "1f7f0a08-5a88-4370-a53a-c237014729af",
   "metadata": {},
   "outputs": [],
   "source": [
    "import pandas as pd\n",
    "import re\n",
    "from sklearn.feature_extraction.text import TfidfVectorizer"
   ]
  },
  {
   "cell_type": "code",
   "execution_count": 2,
   "id": "83623d31-0c0e-4219-8046-3a7329149c0d",
   "metadata": {},
   "outputs": [],
   "source": [
    "data = pd.read_csv('hatspeech dataset.csv', encoding='ISO-8859-1')  "
   ]
  },
  {
   "cell_type": "code",
   "execution_count": 3,
   "id": "2d8fc99d-bc17-448c-8958-385633dc0200",
   "metadata": {},
   "outputs": [
    {
     "data": {
      "text/html": [
       "<div>\n",
       "<style scoped>\n",
       "    .dataframe tbody tr th:only-of-type {\n",
       "        vertical-align: middle;\n",
       "    }\n",
       "\n",
       "    .dataframe tbody tr th {\n",
       "        vertical-align: top;\n",
       "    }\n",
       "\n",
       "    .dataframe thead th {\n",
       "        text-align: right;\n",
       "    }\n",
       "</style>\n",
       "<table border=\"1\" class=\"dataframe\">\n",
       "  <thead>\n",
       "    <tr style=\"text-align: right;\">\n",
       "      <th></th>\n",
       "      <th>Unnamed: 0</th>\n",
       "      <th>comment</th>\n",
       "      <th>label</th>\n",
       "    </tr>\n",
       "  </thead>\n",
       "  <tbody>\n",
       "    <tr>\n",
       "      <th>0</th>\n",
       "      <td>1</td>\n",
       "      <td>dalits are lowlives</td>\n",
       "      <td>N</td>\n",
       "    </tr>\n",
       "    <tr>\n",
       "      <th>1</th>\n",
       "      <td>2</td>\n",
       "      <td>gay people are a burden to our society</td>\n",
       "      <td>N</td>\n",
       "    </tr>\n",
       "    <tr>\n",
       "      <th>2</th>\n",
       "      <td>3</td>\n",
       "      <td>Arabs are not welcome</td>\n",
       "      <td>N</td>\n",
       "    </tr>\n",
       "    <tr>\n",
       "      <th>3</th>\n",
       "      <td>4</td>\n",
       "      <td>I'm not saying we should actually eliminate he...</td>\n",
       "      <td>N</td>\n",
       "    </tr>\n",
       "    <tr>\n",
       "      <th>4</th>\n",
       "      <td>5</td>\n",
       "      <td>bananas are for black people</td>\n",
       "      <td>N</td>\n",
       "    </tr>\n",
       "    <tr>\n",
       "      <th>...</th>\n",
       "      <td>...</td>\n",
       "      <td>...</td>\n",
       "      <td>...</td>\n",
       "    </tr>\n",
       "    <tr>\n",
       "      <th>41139</th>\n",
       "      <td>117100</td>\n",
       "      <td>Indian culture is so backwards</td>\n",
       "      <td>N</td>\n",
       "    </tr>\n",
       "    <tr>\n",
       "      <th>41140</th>\n",
       "      <td>118100</td>\n",
       "      <td>Women don't want equality, they just want to b...</td>\n",
       "      <td>N</td>\n",
       "    </tr>\n",
       "    <tr>\n",
       "      <th>41141</th>\n",
       "      <td>119100</td>\n",
       "      <td>fuck covid</td>\n",
       "      <td>P</td>\n",
       "    </tr>\n",
       "    <tr>\n",
       "      <th>41142</th>\n",
       "      <td>1205</td>\n",
       "      <td>This computer is garbage</td>\n",
       "      <td>P</td>\n",
       "    </tr>\n",
       "    <tr>\n",
       "      <th>41143</th>\n",
       "      <td>121100</td>\n",
       "      <td>The only good Muslim is a dead one</td>\n",
       "      <td>N</td>\n",
       "    </tr>\n",
       "  </tbody>\n",
       "</table>\n",
       "<p>41144 rows × 3 columns</p>\n",
       "</div>"
      ],
      "text/plain": [
       "       Unnamed: 0                                            comment label\n",
       "0               1                                dalits are lowlives     N\n",
       "1               2             gay people are a burden to our society     N\n",
       "2               3                              Arabs are not welcome     N\n",
       "3               4  I'm not saying we should actually eliminate he...     N\n",
       "4               5                       bananas are for black people     N\n",
       "...           ...                                                ...   ...\n",
       "41139      117100                     Indian culture is so backwards     N\n",
       "41140      118100  Women don't want equality, they just want to b...     N\n",
       "41141      119100                                         fuck covid     P\n",
       "41142        1205                           This computer is garbage     P\n",
       "41143      121100                 The only good Muslim is a dead one     N\n",
       "\n",
       "[41144 rows x 3 columns]"
      ]
     },
     "execution_count": 3,
     "metadata": {},
     "output_type": "execute_result"
    }
   ],
   "source": [
    "data"
   ]
  },
  {
   "cell_type": "code",
   "execution_count": 4,
   "id": "5833d9ec-1b63-4782-84f1-0d5588abc08d",
   "metadata": {},
   "outputs": [
    {
     "name": "stdout",
     "output_type": "stream",
     "text": [
      "<class 'pandas.core.frame.DataFrame'>\n",
      "RangeIndex: 41144 entries, 0 to 41143\n",
      "Data columns (total 3 columns):\n",
      " #   Column      Non-Null Count  Dtype \n",
      "---  ------      --------------  ----- \n",
      " 0   Unnamed: 0  41144 non-null  int64 \n",
      " 1   comment     41144 non-null  object\n",
      " 2   label       41144 non-null  object\n",
      "dtypes: int64(1), object(2)\n",
      "memory usage: 964.4+ KB\n",
      "None\n"
     ]
    }
   ],
   "source": [
    "print(data.info())  # Get information about the dataset, like column names and data types"
   ]
  },
  {
   "cell_type": "code",
   "execution_count": 5,
   "id": "4e36a64b-2d25-4e8b-aee7-31a281fef827",
   "metadata": {},
   "outputs": [
    {
     "name": "stdout",
     "output_type": "stream",
     "text": [
      "label\n",
      "N    22158\n",
      "P    18950\n",
      "O       36\n",
      "Name: count, dtype: int64\n"
     ]
    }
   ],
   "source": [
    "print(data['label'].value_counts())  # Check the distribution of labels"
   ]
  },
  {
   "cell_type": "code",
   "execution_count": 6,
   "id": "490589e3-33c7-4290-b488-806b96003bdb",
   "metadata": {},
   "outputs": [],
   "source": [
    "data = data[data['label'] != 'O'].copy()"
   ]
  },
  {
   "cell_type": "code",
   "execution_count": 7,
   "id": "7ceeb61c-4049-4877-8652-12d8c8c9080e",
   "metadata": {},
   "outputs": [
    {
     "name": "stdout",
     "output_type": "stream",
     "text": [
      "label\n",
      "N    22158\n",
      "P    18950\n",
      "Name: count, dtype: int64\n"
     ]
    }
   ],
   "source": [
    "print(data['label'].value_counts())"
   ]
  },
  {
   "cell_type": "code",
   "execution_count": 8,
   "id": "06bcff8d-7b73-4414-a30c-8f4e47931f30",
   "metadata": {},
   "outputs": [
    {
     "data": {
      "text/plain": [
       "Unnamed: 0    False\n",
       "comment       False\n",
       "label         False\n",
       "dtype: bool"
      ]
     },
     "execution_count": 8,
     "metadata": {},
     "output_type": "execute_result"
    }
   ],
   "source": [
    "data.isnull().any()"
   ]
  },
  {
   "cell_type": "code",
   "execution_count": 9,
   "id": "656014d0-b619-4c21-bf5a-628b27596e83",
   "metadata": {},
   "outputs": [
    {
     "name": "stdout",
     "output_type": "stream",
     "text": [
      "Number of duplicate rows: 0\n"
     ]
    }
   ],
   "source": [
    "#Find the number of duplicate rows\n",
    "num_duplicates = data.duplicated().sum()\n",
    "print(f'Number of duplicate rows: {num_duplicates}')"
   ]
  },
  {
   "cell_type": "code",
   "execution_count": 10,
   "id": "6871fb76-d1b2-44e7-a83d-369d07d3751c",
   "metadata": {},
   "outputs": [],
   "source": [
    "chatword_dictionary = {\n",
    "    'u': 'you', 'ur': 'your', 'r': 'are', 'y': 'why', 'b4': 'before', 'gr8': 'great', 'l8r': 'later',\n",
    "    'w8': 'wait', 'bff': 'best friend forever', 'brb': 'be right back', 'btw': 'by the way', 'cuz': 'because',\n",
    "    'idk': 'i do not know', 'ikr': 'i know right', 'imo': 'in my opinion', 'lmao': 'laughing my ass off',\n",
    "    'lol': 'laugh out loud', 'omg': 'oh my god', 'omw': 'on my way', 'pls': 'please', 'thx': 'thanks',\n",
    "    'ttyl': 'talk to you later', 'wth': 'what the hell', 'wyd': 'what you doing', 'smh': 'shaking my head'}"
   ]
  },
  {
   "cell_type": "code",
   "execution_count": 11,
   "id": "969373dd-1b8b-4f4e-b5d2-3f1ebfae3643",
   "metadata": {},
   "outputs": [],
   "source": [
    "slang_dict = {\n",
    "    \"kinda\": \"kind of\", \"wanna\": \"want to\", \"gonna\": \"going to\", \"gotta\": \"got to\", \"ain't\": \"is not\",\n",
    "    \"y'all\": \"you all\", \"can't\": \"cannot\", \"won't\": \"will not\", \"don't\": \"do not\", \"idk\": \"I do not know\",\n",
    "    \"tbh\": \"to be honest\", \"brb\": \"be right back\", \"bbl\": \"be back later\", \"btw\": \"by the way\",\n",
    "    \"omg\": \"oh my god\", \"lol\": \"laughing out loud\", \"i'm\": \"i am\", \"you're\": \"you are\", \"he's\": \"he is\",\n",
    "    \"she's\": \"she is\", \"it's\": \"it is\", \"we're\": \"we are\", \"they're\": \"they are\", \"i'll\": \"i will\",\n",
    "    \"you'll\": \"you will\", \"he'll\": \"he will\", \"she'll\": \"she will\", \"we'll\": \"we will\", \"they'll\": \"they will\",\n",
    "    \"i've\": \"i have\", \"you've\": \"you have\", \"we've\": \"we have\", \"they've\": \"they have\", \"isn't\": \"is not\",\n",
    "    \"aren't\": \"are not\", \"wasn't\": \"was not\", \"weren't\": \"were not\", \"haven't\": \"have not\", \"hasn't\": \"has not\",\n",
    "    \"hadn't\": \"had not\", \"doesn't\": \"does not\", \"didn't\": \"did not\", \"won't\": \"will not\", \"wouldn't\": \"would not\",\n",
    "    \"don't\": \"do not\", \"can't\": \"cannot\", \"couldn't\": \"could not\", \"shouldn't\": \"should not\", \"mightn't\": \"might not\",\n",
    "    \"mustn't\": \"must not\"\n",
    "}"
   ]
  },
  {
   "cell_type": "code",
   "execution_count": 12,
   "id": "823b651c-6074-40bf-8868-dac0653016bc",
   "metadata": {},
   "outputs": [],
   "source": [
    "def clean_text(text):\n",
    "    text = text.lower()  # Convert text to lowercase\n",
    "    text = re.sub(r'\\d+', '', text)  # Remove digits\n",
    "    for chatword, full_form in chatword_dictionary.items():\n",
    "        text = re.sub(rf\"\\b{chatword}\\b\", full_form, text)\n",
    "    for slang, expanded in slang_dict.items():\n",
    "        text = re.sub(r'\\b' + re.escape(slang) + r'\\b', expanded, text)\n",
    "    text = re.sub(r'\\b\\w\\b', '', text)  # Remove single letters\n",
    "    text = re.sub(r'\\W', ' ', text)  # Remove non-word characters\n",
    "    text = re.sub(r'\\s+', ' ', text)  # Remove extra whitespace\n",
    "    text = re.sub(r'(.)\\1{2,}', r'\\1', text)  # Replace sequences of the same character > 2 with 1 occurrence\n",
    "    return text"
   ]
  },
  {
   "cell_type": "code",
   "execution_count": 13,
   "id": "73dc5fa1-d6ad-48e2-9f2a-3a0b80bdd308",
   "metadata": {},
   "outputs": [],
   "source": [
    "data['clean_text'] = data['comment'].apply(clean_text)"
   ]
  },
  {
   "cell_type": "code",
   "execution_count": 14,
   "id": "5ffec071-fbe8-441b-9f83-a1a34e57ed6d",
   "metadata": {},
   "outputs": [],
   "source": [
    "# TF-IDF Vectorization\n",
    "tfidf_vectorizer = TfidfVectorizer()\n",
    "tfidf_matrix = tfidf_vectorizer.fit_transform(data['clean_text'])"
   ]
  },
  {
   "cell_type": "code",
   "execution_count": 15,
   "id": "e0379a31-41b0-4018-b78d-5c99db48f871",
   "metadata": {},
   "outputs": [],
   "source": [
    "# Convert TF-IDF matrix to DataFrame for better readability\n",
    "tfidf_df = pd.DataFrame(tfidf_matrix.toarray(), columns=tfidf_vectorizer.get_feature_names_out())"
   ]
  },
  {
   "cell_type": "code",
   "execution_count": 16,
   "id": "054815c9-5227-4be3-8f7a-2dc02b75544c",
   "metadata": {},
   "outputs": [
    {
     "name": "stdout",
     "output_type": "stream",
     "text": [
      "Concatenated DataFrame preview:\n",
      "   Unnamed: 0                                            comment label  \\\n",
      "0           1                                dalits are lowlives     N   \n",
      "1           2             gay people are a burden to our society     N   \n",
      "2           3                              Arabs are not welcome     N   \n",
      "3           4  I'm not saying we should actually eliminate he...     N   \n",
      "4           5                       bananas are for black people     N   \n",
      "\n",
      "                                          clean_text  _as  _spread   aa  aah  \\\n",
      "0                                dalits are lowlives  0.0      0.0  0.0  0.0   \n",
      "1               gay people are burden to our society  0.0      0.0  0.0  0.0   \n",
      "2                              arabs are not welcome  0.0      0.0  0.0  0.0   \n",
      "3   am not saying we should actually eliminate he...  0.0      0.0  0.0  0.0   \n",
      "4                       bananas are for black people  0.0      0.0  0.0  0.0   \n",
      "\n",
      "   aan  aand  ...  zounderkites   zs  zuber  zucker  zuckerberg  zuckerburg  \\\n",
      "0  0.0   0.0  ...           0.0  0.0    0.0     0.0         0.0         0.0   \n",
      "1  0.0   0.0  ...           0.0  0.0    0.0     0.0         0.0         0.0   \n",
      "2  0.0   0.0  ...           0.0  0.0    0.0     0.0         0.0         0.0   \n",
      "3  0.0   0.0  ...           0.0  0.0    0.0     0.0         0.0         0.0   \n",
      "4  0.0   0.0  ...           0.0  0.0    0.0     0.0         0.0         0.0   \n",
      "\n",
      "   zuider  zulu   zy  zyklon  \n",
      "0     0.0   0.0  0.0     0.0  \n",
      "1     0.0   0.0  0.0     0.0  \n",
      "2     0.0   0.0  0.0     0.0  \n",
      "3     0.0   0.0  0.0     0.0  \n",
      "4     0.0   0.0  0.0     0.0  \n",
      "\n",
      "[5 rows x 25823 columns]\n"
     ]
    }
   ],
   "source": [
    "# Concatenate the original data (with clean text) and TF-IDF DataFrame\n",
    "result_df = pd.concat([data.reset_index(drop=True), tfidf_df], axis=1)\n",
    "print(\"Concatenated DataFrame preview:\")\n",
    "print(result_df.head())"
   ]
  },
  {
   "cell_type": "code",
   "execution_count": null,
   "id": "1cbcc851-d2bc-4198-9f8a-1ec81c7be7a5",
   "metadata": {},
   "outputs": [],
   "source": [
    "tfidf_df.to_csv('tf-idf encoded.csv', index=False)\n",
    "print(\"File saved\")"
   ]
  },
  {
   "cell_type": "code",
   "execution_count": null,
   "id": "dac1fe2d-5e40-4fa4-a62f-961916d43391",
   "metadata": {},
   "outputs": [],
   "source": []
  }
 ],
 "metadata": {
  "kernelspec": {
   "display_name": "Python 3 (ipykernel)",
   "language": "python",
   "name": "python3"
  },
  "language_info": {
   "codemirror_mode": {
    "name": "ipython",
    "version": 3
   },
   "file_extension": ".py",
   "mimetype": "text/x-python",
   "name": "python",
   "nbconvert_exporter": "python",
   "pygments_lexer": "ipython3",
   "version": "3.12.4"
  }
 },
 "nbformat": 4,
 "nbformat_minor": 5
}
