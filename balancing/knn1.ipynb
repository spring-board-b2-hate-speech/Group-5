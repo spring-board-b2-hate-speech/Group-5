{
  "nbformat": 4,
  "nbformat_minor": 0,
  "metadata": {
    "colab": {
      "provenance": []
    },
    "kernelspec": {
      "name": "python3",
      "display_name": "Python 3"
    },
    "language_info": {
      "name": "python"
    }
  },
  "cells": [
    {
      "cell_type": "code",
      "source": [
        "import pandas as pd\n",
        "from sklearn.model_selection import train_test_split\n",
        "from sklearn.feature_extraction.text import TfidfVectorizer\n",
        "from imblearn.over_sampling import RandomOverSampler\n",
        "from sklearn.neighbors import KNeighborsClassifier\n",
        "from sklearn.metrics import classification_report\n",
        "import re"
      ],
      "metadata": {
        "id": "COpzudw7zwGX"
      },
      "execution_count": 7,
      "outputs": []
    },
    {
      "cell_type": "code",
      "source": [
        "# Load the dataset (replace 'your_dataset.csv' with your actual dataset file)\n",
        "df = pd.read_csv('/content/dataset1_utf8.csv')\n"
      ],
      "metadata": {
        "id": "gzGCe8vlt7b8"
      },
      "execution_count": 3,
      "outputs": []
    },
    {
      "cell_type": "code",
      "source": [
        "\n",
        "# Count number of columns\n",
        "num_columns = df.shape[1]\n",
        "print(f\"Number of columns: {num_columns}\")\n",
        "\n",
        "# Function to preprocess text\n",
        "def preprocess_text(text):\n",
        "    # Remove special characters and numbers\n",
        "    text = re.sub(r'[^a-zA-Z\\s]', '', text)\n",
        "    # Convert to lowercase\n",
        "    text = text.lower()\n",
        "    return text\n",
        "\n",
        "# Apply preprocessing to 'comment' column\n",
        "df['processed_comment'] = df['comment'].apply(preprocess_text)\n",
        "\n",
        "# Split dataset into features (X) and target (y)\n",
        "X = df['processed_comment']\n",
        "y = df['label']"
      ],
      "metadata": {
        "colab": {
          "base_uri": "https://localhost:8080/"
        },
        "id": "KQWlrwiM0hlH",
        "outputId": "cdcc4284-0c30-4eb3-9af6-24fafb1a77d2"
      },
      "execution_count": 8,
      "outputs": [
        {
          "output_type": "stream",
          "name": "stdout",
          "text": [
            "Number of columns: 4\n"
          ]
        }
      ]
    },
    {
      "cell_type": "code",
      "source": [
        "# Vectorize the text data (convert text to numerical features)\n",
        "vectorizer = TfidfVectorizer(max_features=1000)  # You can adjust max_features as needed\n",
        "X_vec = vectorizer.fit_transform(X)\n",
        "\n",
        "# Print shape of data before sampling\n",
        "print(f\"Shape of data before sampling: {X_vec.shape}, {y.shape}\")\n",
        "\n",
        "# Split data into training and testing sets\n",
        "X_train, X_test, y_train, y_test = train_test_split(X_vec, y, test_size=0.2, random_state=42)\n"
      ],
      "metadata": {
        "colab": {
          "base_uri": "https://localhost:8080/"
        },
        "id": "FZUJkpi51Kxx",
        "outputId": "d0860c0c-ecf8-4840-c7aa-9ae5e76399c6"
      },
      "execution_count": 10,
      "outputs": [
        {
          "output_type": "stream",
          "name": "stdout",
          "text": [
            "Shape of data before sampling: (41144, 1000), (41144,)\n"
          ]
        }
      ]
    },
    {
      "cell_type": "code",
      "source": [
        "# Initialize the KNN classifier with default parameters\n",
        "knn = KNeighborsClassifier()\n",
        "\n",
        "# Fit the model on the training data\n",
        "knn.fit(X_train, y_train)\n",
        "\n",
        "# Predict on the test set\n",
        "y_pred = knn.predict(X_test)\n",
        "\n",
        "# Evaluate the model\n",
        "print(\"Evaluation without Hyperparameter Tuning:\")\n",
        "print(classification_report(y_test, y_pred))\n",
        "\n",
        "# Random Oversampling\n",
        "oversampler = RandomOverSampler(random_state=42)\n",
        "\n",
        "# Apply random oversampling to the training data\n",
        "X_train_resampled, y_train_resampled = oversampler.fit_resample(X_train, y_train)\n",
        "\n",
        "# Print shape of balanced data after oversampling\n",
        "print(f\"Shape of balanced data after random oversampling: {X_train_resampled.shape}, {y_train_resampled.shape}\")\n",
        "\n",
        "# Fit the model on the resampled data\n",
        "knn.fit(X_train_resampled, y_train_resampled)\n",
        "\n",
        "# Predict on the test set\n",
        "y_pred_resampled = knn.predict(X_test)\n",
        "\n",
        "# Evaluate the model after random oversampling\n",
        "print(\"Evaluation after Random Oversampling:\")\n",
        "print(classification_report(y_test, y_pred_resampled))\n"
      ],
      "metadata": {
        "colab": {
          "base_uri": "https://localhost:8080/"
        },
        "id": "A-oPGHr_0wGN",
        "outputId": "831d3819-ab77-4417-fc4b-3ab2e237f579"
      },
      "execution_count": 9,
      "outputs": [
        {
          "output_type": "stream",
          "name": "stdout",
          "text": [
            "Evaluation without Hyperparameter Tuning:\n"
          ]
        },
        {
          "output_type": "stream",
          "name": "stderr",
          "text": [
            "/usr/local/lib/python3.10/dist-packages/sklearn/metrics/_classification.py:1344: UndefinedMetricWarning: Precision and F-score are ill-defined and being set to 0.0 in labels with no predicted samples. Use `zero_division` parameter to control this behavior.\n",
            "  _warn_prf(average, modifier, msg_start, len(result))\n",
            "/usr/local/lib/python3.10/dist-packages/sklearn/metrics/_classification.py:1344: UndefinedMetricWarning: Precision and F-score are ill-defined and being set to 0.0 in labels with no predicted samples. Use `zero_division` parameter to control this behavior.\n",
            "  _warn_prf(average, modifier, msg_start, len(result))\n",
            "/usr/local/lib/python3.10/dist-packages/sklearn/metrics/_classification.py:1344: UndefinedMetricWarning: Precision and F-score are ill-defined and being set to 0.0 in labels with no predicted samples. Use `zero_division` parameter to control this behavior.\n",
            "  _warn_prf(average, modifier, msg_start, len(result))\n"
          ]
        },
        {
          "output_type": "stream",
          "name": "stdout",
          "text": [
            "              precision    recall  f1-score   support\n",
            "\n",
            "           N       0.57      0.89      0.69      4375\n",
            "           O       0.00      0.00      0.00         4\n",
            "           P       0.65      0.23      0.35      3850\n",
            "\n",
            "    accuracy                           0.58      8229\n",
            "   macro avg       0.41      0.38      0.35      8229\n",
            "weighted avg       0.61      0.58      0.53      8229\n",
            "\n",
            "Shape of balanced data after random oversampling: (53349, 1000), (53349,)\n",
            "Evaluation after Random Oversampling:\n",
            "              precision    recall  f1-score   support\n",
            "\n",
            "           N       0.56      0.85      0.68      4375\n",
            "           O       0.00      0.00      0.00         4\n",
            "           P       0.60      0.26      0.36      3850\n",
            "\n",
            "    accuracy                           0.57      8229\n",
            "   macro avg       0.39      0.37      0.35      8229\n",
            "weighted avg       0.58      0.57      0.53      8229\n",
            "\n"
          ]
        }
      ]
    }
  ]
}