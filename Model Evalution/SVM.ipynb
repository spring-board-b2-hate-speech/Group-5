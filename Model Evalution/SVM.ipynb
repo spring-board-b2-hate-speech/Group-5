{
 "cells": [
  {
   "cell_type": "code",
   "execution_count": 2,
   "id": "fd1a18d3-70d9-419a-922f-64fe1ddbbe4d",
   "metadata": {},
   "outputs": [],
   "source": [
    "import pandas as pd"
   ]
  },
  {
   "cell_type": "code",
   "execution_count": 3,
   "id": "f1026c94-2aa2-476a-825e-341504c3e5c9",
   "metadata": {},
   "outputs": [],
   "source": [
    "data = pd.read_csv('balanced_dataset.csv')"
   ]
  },
  {
   "cell_type": "markdown",
   "id": "b1b4fbc5-3b7f-452a-b54e-e0fc9ff34516",
   "metadata": {},
   "source": [
    "### Separate features and labels"
   ]
  },
  {
   "cell_type": "code",
   "execution_count": 5,
   "id": "b38cdaed-aa0c-4be2-8cd8-70d88abdc6e5",
   "metadata": {},
   "outputs": [],
   "source": [
    "X = data.drop('label', axis=1)\n",
    "y = data['label']"
   ]
  },
  {
   "cell_type": "markdown",
   "id": "04998a69-4b6d-4ef2-9aa1-47bf272324b6",
   "metadata": {},
   "source": [
    "### Splitting data into training and testing sets"
   ]
  },
  {
   "cell_type": "code",
   "execution_count": 6,
   "id": "e50ec2ee-38b0-448a-9c92-b10ea153fdcb",
   "metadata": {},
   "outputs": [],
   "source": [
    "import numpy as np\n",
    "from sklearn.model_selection import train_test_split\n",
    "from sklearn.svm import SVC\n",
    "from sklearn.metrics import classification_report, accuracy_score\n",
    "X_train, X_test, y_train, y_test = train_test_split(X, y, test_size=0.3, random_state=42)\n"
   ]
  },
  {
   "cell_type": "markdown",
   "id": "4319501a-85f2-4ce8-a44b-e67eabd2fce9",
   "metadata": {},
   "source": [
    "## Support Vector Machine"
   ]
  },
  {
   "cell_type": "markdown",
   "id": "8c081b84-41f5-42df-b638-cc9a032d5b8a",
   "metadata": {},
   "source": [
    "#### Support Vector Machine (SVM) is a supervised machine learning algorithm used for classification and regression tasks. It works by finding the optimal hyperplane that maximally separates data points of different classes in a high-dimensional space."
   ]
  },
  {
   "cell_type": "code",
   "execution_count": 7,
   "id": "41fa6745-e6de-4bbd-8484-71ec08f89695",
   "metadata": {},
   "outputs": [],
   "source": [
    "# Initialize the SVM model\n",
    "svm_model = SVC(kernel='rbf')"
   ]
  },
  {
   "cell_type": "markdown",
   "id": "44d45d05-62d7-432d-b8dc-dd699bf8daec",
   "metadata": {},
   "source": [
    "### Train the model"
   ]
  },
  {
   "cell_type": "code",
   "execution_count": null,
   "id": "156dccc0-cc0e-47db-abc6-a43c0b181a6f",
   "metadata": {},
   "outputs": [],
   "source": [
    "svm_model.fit(X_train, y_train)"
   ]
  },
  {
   "cell_type": "markdown",
   "id": "93f133d0-0958-4aa3-9b91-461d562c4b83",
   "metadata": {},
   "source": [
    "### Evaluate model"
   ]
  },
  {
   "cell_type": "code",
   "execution_count": 13,
   "id": "a55492fc-5b0a-4a4c-bc5b-6c501bdc24c4",
   "metadata": {},
   "outputs": [
    {
     "name": "stdout",
     "output_type": "stream",
     "text": [
      "Accuracy: 0.49578630549285174\n",
      "Classification Report:\n",
      "              precision    recall  f1-score   support\n",
      "\n",
      "           0       0.49      0.42      0.46      6610\n",
      "           1       0.50      0.57      0.53      6680\n",
      "\n",
      "    accuracy                           0.50     13290\n",
      "   macro avg       0.50      0.50      0.49     13290\n",
      "weighted avg       0.50      0.50      0.49     13290\n",
      "\n"
     ]
    }
   ],
   "source": [
    "# Make predictions\n",
    "y_pred = svm_model.predict(X_test)\n",
    "\n",
    "# Evaluate the model\n",
    "accuracy = accuracy_score(y_test, y_pred)\n",
    "report = classification_report(y_test, y_pred)\n",
    "\n",
    "print(f\"Accuracy: {accuracy}\")\n",
    "print(\"Classification Report:\")\n",
    "print(report)"
   ]
  },
  {
   "cell_type": "code",
   "execution_count": null,
   "id": "8ea3ac6c-730f-471d-93fb-7812f01e0db4",
   "metadata": {},
   "outputs": [],
   "source": []
  }
 ],
 "metadata": {
  "kernelspec": {
   "display_name": "Python 3",
   "language": "python",
   "name": "python3"
  },
  "language_info": {
   "codemirror_mode": {
    "name": "ipython",
    "version": 3
   },
   "file_extension": ".py",
   "mimetype": "text/x-python",
   "name": "python",
   "nbconvert_exporter": "python",
   "pygments_lexer": "ipython3",
   "version": "3.11.7"
  }
 },
 "nbformat": 4,
 "nbformat_minor": 5
}
