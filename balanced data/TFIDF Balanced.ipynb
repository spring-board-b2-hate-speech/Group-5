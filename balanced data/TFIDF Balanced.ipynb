{
 "cells": [
  {
   "cell_type": "code",
   "execution_count": 1,
   "id": "439a0577-a06e-4781-b729-bbfb4a4f6047",
   "metadata": {},
   "outputs": [],
   "source": [
    "import pandas as pd\n",
    "import numpy as np\n",
    "from sklearn.feature_extraction.text import TfidfVectorizer\n",
    "from sklearn.preprocessing import LabelEncoder\n"
   ]
  },
  {
   "cell_type": "code",
   "execution_count": 2,
   "id": "dcb16eb7-a50e-4590-860b-419a525e0c36",
   "metadata": {},
   "outputs": [
    {
     "data": {
      "text/html": [
       "<div>\n",
       "<style scoped>\n",
       "    .dataframe tbody tr th:only-of-type {\n",
       "        vertical-align: middle;\n",
       "    }\n",
       "\n",
       "    .dataframe tbody tr th {\n",
       "        vertical-align: top;\n",
       "    }\n",
       "\n",
       "    .dataframe thead th {\n",
       "        text-align: right;\n",
       "    }\n",
       "</style>\n",
       "<table border=\"1\" class=\"dataframe\">\n",
       "  <thead>\n",
       "    <tr style=\"text-align: right;\">\n",
       "      <th></th>\n",
       "      <th>comment</th>\n",
       "      <th>label</th>\n",
       "      <th>clean_text</th>\n",
       "      <th>tokens</th>\n",
       "      <th>text</th>\n",
       "    </tr>\n",
       "  </thead>\n",
       "  <tbody>\n",
       "    <tr>\n",
       "      <th>0</th>\n",
       "      <td>dalits are lowlives</td>\n",
       "      <td>N</td>\n",
       "      <td>dalits are lowlives</td>\n",
       "      <td>['dalits', 'lowlives']</td>\n",
       "      <td>dalits lowlives</td>\n",
       "    </tr>\n",
       "    <tr>\n",
       "      <th>1</th>\n",
       "      <td>gay people are a burden to our society</td>\n",
       "      <td>N</td>\n",
       "      <td>gay people are a burden to our society</td>\n",
       "      <td>['gay', 'people', 'burden', 'society']</td>\n",
       "      <td>gay people burden society</td>\n",
       "    </tr>\n",
       "    <tr>\n",
       "      <th>2</th>\n",
       "      <td>Arabs are not welcome</td>\n",
       "      <td>N</td>\n",
       "      <td>arabs are not welcome</td>\n",
       "      <td>['arab', 'welcome']</td>\n",
       "      <td>arab welcome</td>\n",
       "    </tr>\n",
       "    <tr>\n",
       "      <th>3</th>\n",
       "      <td>I'm not saying we should actually eliminate he...</td>\n",
       "      <td>N</td>\n",
       "      <td>i am not saying we should actually eliminate h...</td>\n",
       "      <td>['say', 'actually', 'eliminate', 'heebs', 'wis...</td>\n",
       "      <td>say actually eliminate heebs wish naturally be...</td>\n",
       "    </tr>\n",
       "    <tr>\n",
       "      <th>4</th>\n",
       "      <td>bananas are for black people</td>\n",
       "      <td>N</td>\n",
       "      <td>bananas are for black people</td>\n",
       "      <td>['bananas', 'black', 'people']</td>\n",
       "      <td>bananas black people</td>\n",
       "    </tr>\n",
       "  </tbody>\n",
       "</table>\n",
       "</div>"
      ],
      "text/plain": [
       "                                             comment label  \\\n",
       "0                                dalits are lowlives     N   \n",
       "1             gay people are a burden to our society     N   \n",
       "2                              Arabs are not welcome     N   \n",
       "3  I'm not saying we should actually eliminate he...     N   \n",
       "4                       bananas are for black people     N   \n",
       "\n",
       "                                          clean_text  \\\n",
       "0                                dalits are lowlives   \n",
       "1             gay people are a burden to our society   \n",
       "2                              arabs are not welcome   \n",
       "3  i am not saying we should actually eliminate h...   \n",
       "4                       bananas are for black people   \n",
       "\n",
       "                                              tokens  \\\n",
       "0                             ['dalits', 'lowlives']   \n",
       "1             ['gay', 'people', 'burden', 'society']   \n",
       "2                                ['arab', 'welcome']   \n",
       "3  ['say', 'actually', 'eliminate', 'heebs', 'wis...   \n",
       "4                     ['bananas', 'black', 'people']   \n",
       "\n",
       "                                                text  \n",
       "0                                    dalits lowlives  \n",
       "1                          gay people burden society  \n",
       "2                                       arab welcome  \n",
       "3  say actually eliminate heebs wish naturally be...  \n",
       "4                               bananas black people  "
      ]
     },
     "execution_count": 2,
     "metadata": {},
     "output_type": "execute_result"
    }
   ],
   "source": [
    "data = pd.read_csv('Preprocessed_Final_dataset.csv',encoding = 'latin1')\n",
    "data.head()"
   ]
  },
  {
   "cell_type": "markdown",
   "id": "bdab19ef-d127-4e83-bedf-e4f623a75f12",
   "metadata": {},
   "source": [
    "# TF-IDF Vectorizer\n",
    "\n",
    "### TF-IDF is the importance of a term is inversely related to its frequency across documents.TF gives us information on how often a term appears in a document and IDF gives us information about the relative rarity of a term in the collection of documents. By multiplying these values together we can get our final TF-IDF value.The higher the TF-IDF score the more important or relevant the term is; as a term gets less relevant, its TF-IDF score will approach 0."
   ]
  },
  {
   "cell_type": "code",
   "execution_count": 4,
   "id": "2ae292fa-38ed-45ae-87c8-7bc0726da4dc",
   "metadata": {},
   "outputs": [],
   "source": [
    "# Transform text to TF-IDF features with a limit on max features\n",
    "tfidf_vectorizer = TfidfVectorizer(max_features=1000)\n",
    "X = tfidf_vectorizer.fit_transform(data['text'])"
   ]
  },
  {
   "cell_type": "markdown",
   "id": "1c70ef75-f19f-4062-bc8d-7fafe9b5468d",
   "metadata": {},
   "source": [
    "# Label Encoding:\n",
    "\n",
    "### LabelEncoder converts the categorical label into numeric labels.This is useful for classification tasks where the target variable needs to be in numerical format."
   ]
  },
  {
   "cell_type": "code",
   "execution_count": 5,
   "id": "38b532d6-7aa5-443f-aff0-36cd694983b9",
   "metadata": {},
   "outputs": [],
   "source": [
    "# Encode the labels\n",
    "label_encoder = LabelEncoder()\n",
    "y = label_encoder.fit_transform(data['label'])\n",
    "tfidf_df = pd.DataFrame(X.toarray(), columns=tfidf_vectorizer.get_feature_names_out())\n",
    "tfidf_df['label'] = y"
   ]
  },
  {
   "cell_type": "code",
   "execution_count": 6,
   "id": "e07a97f2-86e9-4fec-9bd4-2033a3bf3e5c",
   "metadata": {},
   "outputs": [
    {
     "name": "stdout",
     "output_type": "stream",
     "text": [
      "   able  absolute  absolutely  abuse  accept  accord  account  across  act  \\\n",
      "0   0.0       0.0         0.0    0.0     0.0     0.0      0.0     0.0  0.0   \n",
      "1   0.0       0.0         0.0    0.0     0.0     0.0      0.0     0.0  0.0   \n",
      "2   0.0       0.0         0.0    0.0     0.0     0.0      0.0     0.0  0.0   \n",
      "3   0.0       0.0         0.0    0.0     0.0     0.0      0.0     0.0  0.0   \n",
      "4   0.0       0.0         0.0    0.0     0.0     0.0      0.0     0.0  0.0   \n",
      "\n",
      "   action  ...  would  wow  write  wrong  yeah  year  yes  yet  young  label  \n",
      "0     0.0  ...    0.0  0.0    0.0    0.0   0.0   0.0  0.0  0.0    0.0      0  \n",
      "1     0.0  ...    0.0  0.0    0.0    0.0   0.0   0.0  0.0  0.0    0.0      0  \n",
      "2     0.0  ...    0.0  0.0    0.0    0.0   0.0   0.0  0.0  0.0    0.0      0  \n",
      "3     0.0  ...    0.0  0.0    0.0    0.0   0.0   0.0  0.0  0.0    0.0      0  \n",
      "4     0.0  ...    0.0  0.0    0.0    0.0   0.0   0.0  0.0  0.0    0.0      0  \n",
      "\n",
      "[5 rows x 1001 columns]\n"
     ]
    }
   ],
   "source": [
    "print(tfidf_df.head())"
   ]
  },
  {
   "cell_type": "code",
   "execution_count": 7,
   "id": "266f8335-0473-4230-a67c-00e428b552d2",
   "metadata": {},
   "outputs": [],
   "source": [
    "data.to_csv('tf_idf.csv', index=False)"
   ]
  },
  {
   "cell_type": "markdown",
   "id": "a8e7e924-138d-4d52-8571-4a737dee2108",
   "metadata": {},
   "source": [
    "# SMOTE\n",
    "\n",
    "### SMOTE (Synthetic Minority Over-sampling Technique) is an oversampling method used to address class imbalance by generating synthetic samples for the minority class. It works by creating new instances along the line segments joining each minority class sample with its nearest neighbors."
   ]
  },
  {
   "cell_type": "code",
   "execution_count": 9,
   "id": "e957c36e-e385-4f6e-a1cb-543b18726749",
   "metadata": {},
   "outputs": [],
   "source": [
    "from imblearn.over_sampling import SMOTE\n",
    "smote = SMOTE(random_state=42)\n",
    "X_resampled, y_resampled = smote.fit_resample(X, y)\n",
    "\n",
    "# Create DataFrame from the resampled data\n",
    "X_resampled_df = pd.DataFrame(X_resampled.toarray(), columns=tfidf_vectorizer.get_feature_names_out())\n",
    "y_resampled_df = pd.DataFrame(y_resampled, columns=['label'])\n",
    "\n",
    "# Concatenate the features and label DataFrames\n",
    "balanced_df = pd.concat([X_resampled_df, y_resampled_df], axis=1)\n",
    "\n",
    "# inverse transform the labels to get the original label names\n",
    "balanced_df['label'] = label_encoder.inverse_transform(balanced_df['label'])"
   ]
  },
  {
   "cell_type": "code",
   "execution_count": 12,
   "id": "66993550-00ab-4f5f-873e-b928b6a71e4c",
   "metadata": {},
   "outputs": [
    {
     "name": "stdout",
     "output_type": "stream",
     "text": [
      "label\n",
      "N    22150\n",
      "P    22150\n",
      "Name: count, dtype: int64\n"
     ]
    }
   ],
   "source": [
    "print(balanced_df['label'].value_counts())"
   ]
  },
  {
   "cell_type": "code",
   "execution_count": null,
   "id": "e1b4a9b1-058d-4d3f-a65e-6110587cb051",
   "metadata": {},
   "outputs": [],
   "source": []
  }
 ],
 "metadata": {
  "kernelspec": {
   "display_name": "Python 3",
   "language": "python",
   "name": "python3"
  },
  "language_info": {
   "codemirror_mode": {
    "name": "ipython",
    "version": 3
   },
   "file_extension": ".py",
   "mimetype": "text/x-python",
   "name": "python",
   "nbconvert_exporter": "python",
   "pygments_lexer": "ipython3",
   "version": "3.11.7"
  }
 },
 "nbformat": 4,
 "nbformat_minor": 5
}
