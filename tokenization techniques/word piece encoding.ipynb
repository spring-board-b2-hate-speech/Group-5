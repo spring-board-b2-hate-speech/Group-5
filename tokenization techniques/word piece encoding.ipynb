{
 "cells": [
  {
   "cell_type": "code",
   "execution_count": 1,
   "id": "37c79c08-668f-48a1-a5f8-43d3b3224ddd",
   "metadata": {},
   "outputs": [],
   "source": [
    "import pandas as pd\n",
    "import re\n",
    "from nltk.corpus import stopwords\n",
    "from nltk.stem import WordNetLemmatizer\n",
    "from sklearn.feature_extraction.text import TfidfVectorizer\n",
    "from sklearn.model_selection import train_test_split\n",
    "from tokenizers import Tokenizer, models, trainers, pre_tokenizers, processors"
   ]
  },
  {
   "cell_type": "code",
   "execution_count": 2,
   "id": "b103b564-eff6-4952-b7bf-60897475ca6d",
   "metadata": {},
   "outputs": [],
   "source": [
    "data = pd.read_csv('hatspeech dataset.csv',encoding='latin1')"
   ]
  },
  {
   "cell_type": "code",
   "execution_count": 3,
   "id": "472996e5-a7e0-4865-9fc0-12a07cf870d5",
   "metadata": {},
   "outputs": [
    {
     "name": "stdout",
     "output_type": "stream",
     "text": [
      "   Unnamed: 0                                            comment label\n",
      "0           1                                dalits are lowlives     N\n",
      "1           2             gay people are a burden to our society     N\n",
      "2           3                              Arabs are not welcome     N\n",
      "3           4  I'm not saying we should actually eliminate he...     N\n",
      "4           5                       bananas are for black people     N\n"
     ]
    }
   ],
   "source": [
    "print(data.head())  # Check the first few rows of the dataset"
   ]
  },
  {
   "cell_type": "code",
   "execution_count": 4,
   "id": "0405a340-c33e-42d9-beac-40f37e349ad0",
   "metadata": {},
   "outputs": [
    {
     "name": "stdout",
     "output_type": "stream",
     "text": [
      "<class 'pandas.core.frame.DataFrame'>\n",
      "RangeIndex: 41144 entries, 0 to 41143\n",
      "Data columns (total 3 columns):\n",
      " #   Column      Non-Null Count  Dtype \n",
      "---  ------      --------------  ----- \n",
      " 0   Unnamed: 0  41144 non-null  int64 \n",
      " 1   comment     41144 non-null  object\n",
      " 2   label       41144 non-null  object\n",
      "dtypes: int64(1), object(2)\n",
      "memory usage: 964.4+ KB\n",
      "None\n"
     ]
    }
   ],
   "source": [
    "print(data.info())  # Get information about the dataset, like column names and data types"
   ]
  },
  {
   "cell_type": "code",
   "execution_count": 5,
   "id": "821dad5e-2113-473a-9937-d6fe88504f4d",
   "metadata": {},
   "outputs": [
    {
     "name": "stdout",
     "output_type": "stream",
     "text": [
      "label\n",
      "N    22158\n",
      "P    18950\n",
      "O       36\n",
      "Name: count, dtype: int64\n"
     ]
    }
   ],
   "source": [
    "print(data['label'].value_counts())  # Check the distribution of labels"
   ]
  },
  {
   "cell_type": "code",
   "execution_count": 6,
   "id": "ef73fae5-5615-4385-82d9-bb5d3c4d2c60",
   "metadata": {},
   "outputs": [
    {
     "name": "stdout",
     "output_type": "stream",
     "text": [
      "Number of duplicate rows: 0\n"
     ]
    }
   ],
   "source": [
    "#Find the number of duplicate rows\n",
    "num_duplicates = data.duplicated().sum()\n",
    "print(f'Number of duplicate rows: {num_duplicates}')"
   ]
  },
  {
   "cell_type": "code",
   "execution_count": 7,
   "id": "8269e8e7-7a19-435c-9a90-c3f53b7fa0b0",
   "metadata": {},
   "outputs": [],
   "source": [
    "def clean_text(text):\n",
    "    text = text.lower()  # Convert text to lowercase\n",
    "    text = re.sub(r'\\W', ' ', text)  # Remove non-word characters\n",
    "    text = re.sub(r'\\s+', ' ', text) # Remove extra whitespace\n",
    "    text = re.sub(r'(.)\\1{2,}', r'\\1', text)  # Replace sequences of the same character > 2 with 1 occurrence\n",
    "    text = re.sub(r'(\\w)[^\\w\\s](\\w)', r'\\1\\2', text)\n",
    "    return text"
   ]
  },
  {
   "cell_type": "code",
   "execution_count": 8,
   "id": "bbb27b7e-4343-4df3-beec-aa47273affce",
   "metadata": {},
   "outputs": [],
   "source": [
    "data['clean_text'] = data['comment'].apply(clean_text)"
   ]
  },
  {
   "cell_type": "code",
   "execution_count": 9,
   "id": "3383e797-8a53-489e-af49-2bcf551bfa05",
   "metadata": {},
   "outputs": [
    {
     "data": {
      "text/plain": [
       "0                                      dalits are lowlives\n",
       "1                   gay people are a burden to our society\n",
       "2                                    arabs are not welcome\n",
       "3        i m not saying we should actually eliminate he...\n",
       "4                             bananas are for black people\n",
       "                               ...                        \n",
       "41139                       indian culture is so backwards\n",
       "41140    women don t want equality they just want to be...\n",
       "41141                                           fuck covid\n",
       "41142                             this computer is garbage\n",
       "41143                   the only good muslim is a dead one\n",
       "Name: clean_text, Length: 41144, dtype: object"
      ]
     },
     "execution_count": 9,
     "metadata": {},
     "output_type": "execute_result"
    }
   ],
   "source": [
    "data['clean_text']"
   ]
  },
  {
   "cell_type": "code",
   "execution_count": 10,
   "id": "3961f96a-a142-46fb-8748-8ad186d9625f",
   "metadata": {},
   "outputs": [],
   "source": [
    "def train_wordpiece_tokenizer(texts, vocab_size=10000):\n",
    "    # Initialize a tokenizer with the WordPiece model\n",
    "    tokenizer = Tokenizer(models.WordPiece(unk_token=\"[UNK]\"))\n",
    "    \n",
    "    # Customize pre-tokenizer and post-processor if needed\n",
    "    tokenizer.pre_tokenizer = pre_tokenizers.Whitespace()\n",
    "    \n",
    "    # Create a trainer for the tokenizer\n",
    "    trainer = trainers.WordPieceTrainer(vocab_size=vocab_size, special_tokens=[\"[UNK]\", \"[CLS]\", \"[SEP]\", \"[PAD]\", \"[MASK]\"])\n",
    "    \n",
    "    # Train the tokenizer on the provided texts\n",
    "    tokenizer.train_from_iterator(texts, trainer=trainer)\n",
    "    \n",
    "    return tokenizer\n"
   ]
  },
  {
   "cell_type": "code",
   "execution_count": 11,
   "id": "b9227665-405a-4406-a8fd-3315f6986b37",
   "metadata": {},
   "outputs": [],
   "source": [
    "tokenizer = train_wordpiece_tokenizer(data['clean_text'].tolist())"
   ]
  },
  {
   "cell_type": "code",
   "execution_count": 12,
   "id": "6967a59a-e5b1-4ad3-8b62-c42bf6f8700c",
   "metadata": {},
   "outputs": [],
   "source": [
    "# Tokenize the text data\n",
    "def tokenize_with_wordpiece(text, tokenizer):\n",
    "    encoded = tokenizer.encode(text)\n",
    "    return encoded.tokens"
   ]
  },
  {
   "cell_type": "code",
   "execution_count": 13,
   "id": "163be6aa-a90e-4025-8c07-7885eac8991a",
   "metadata": {},
   "outputs": [],
   "source": [
    "data['tokens'] = data['clean_text'].apply(lambda x: tokenize_with_wordpiece(x, tokenizer))"
   ]
  },
  {
   "cell_type": "code",
   "execution_count": 14,
   "id": "51d80aee-6c50-4f45-a278-6ff78baedee9",
   "metadata": {},
   "outputs": [
    {
     "data": {
      "text/plain": [
       "0                          [dalits, are, low, ##liv, ##es]\n",
       "1          [gay, people, are, a, burden, to, our, society]\n",
       "2                               [arabs, are, not, welcome]\n",
       "3        [i, m, not, saying, we, should, actually, elim...\n",
       "4                       [bananas, are, for, black, people]\n",
       "                               ...                        \n",
       "41139                 [indian, culture, is, so, backwards]\n",
       "41140    [women, don, t, want, equality, they, just, wa...\n",
       "41141                                        [fuck, covid]\n",
       "41142                        [this, computer, is, garbage]\n",
       "41143          [the, only, good, muslim, is, a, dead, one]\n",
       "Name: tokens, Length: 41144, dtype: object"
      ]
     },
     "execution_count": 14,
     "metadata": {},
     "output_type": "execute_result"
    }
   ],
   "source": [
    "data['tokens']"
   ]
  },
  {
   "cell_type": "code",
   "execution_count": 15,
   "id": "535f95b6-cb7d-43d2-9820-37af7536d692",
   "metadata": {},
   "outputs": [],
   "source": [
    "stop_words = set(stopwords.words('english'))"
   ]
  },
  {
   "cell_type": "code",
   "execution_count": 16,
   "id": "b93ab501-9d44-4000-a2fb-ee327009811a",
   "metadata": {},
   "outputs": [],
   "source": [
    "def remove_stopwords(tokens):\n",
    "    return [word for word in tokens if word not in stop_words]"
   ]
  },
  {
   "cell_type": "code",
   "execution_count": 17,
   "id": "638f6f1c-5722-4338-9c79-eecae51cf3c3",
   "metadata": {},
   "outputs": [],
   "source": [
    "data['tokens'] = data['tokens'].apply(remove_stopwords)"
   ]
  },
  {
   "cell_type": "code",
   "execution_count": 18,
   "id": "b7f27fed-7820-46cd-acaf-37f1213010f8",
   "metadata": {},
   "outputs": [
    {
     "data": {
      "text/plain": [
       "0                               [dalits, low, ##liv, ##es]\n",
       "1                           [gay, people, burden, society]\n",
       "2                                         [arabs, welcome]\n",
       "3        [saying, actually, eliminate, ##eb, ##s, wish,...\n",
       "4                                 [bananas, black, people]\n",
       "                               ...                        \n",
       "41139                         [indian, culture, backwards]\n",
       "41140                [women, want, equality, want, charge]\n",
       "41141                                        [fuck, covid]\n",
       "41142                                  [computer, garbage]\n",
       "41143                            [good, muslim, dead, one]\n",
       "Name: tokens, Length: 41144, dtype: object"
      ]
     },
     "execution_count": 18,
     "metadata": {},
     "output_type": "execute_result"
    }
   ],
   "source": [
    "data['tokens']"
   ]
  },
  {
   "cell_type": "code",
   "execution_count": 19,
   "id": "8475a73a-808e-49c3-bbc7-7f2b856a3fea",
   "metadata": {},
   "outputs": [],
   "source": [
    "lemmatizer = WordNetLemmatizer()"
   ]
  },
  {
   "cell_type": "code",
   "execution_count": 20,
   "id": "c0782dd6-0922-42eb-aaca-330c3454fb90",
   "metadata": {},
   "outputs": [],
   "source": [
    "def lemmatize_words(tokens):\n",
    "    return [lemmatizer.lemmatize(word) for word in tokens]"
   ]
  },
  {
   "cell_type": "code",
   "execution_count": 21,
   "id": "58922e0f-bcf8-487c-bd6e-829e87319bf8",
   "metadata": {},
   "outputs": [],
   "source": [
    "data['lemmatized_tokens'] = data['tokens'].apply(lemmatize_words)"
   ]
  },
  {
   "cell_type": "code",
   "execution_count": 22,
   "id": "fe654455-4d48-4577-b1d9-7cbc820f2c0b",
   "metadata": {},
   "outputs": [
    {
     "data": {
      "text/plain": [
       "0                               [dalits, low, ##liv, ##es]\n",
       "1                           [gay, people, burden, society]\n",
       "2                                          [arab, welcome]\n",
       "3        [saying, actually, eliminate, ##eb, ##s, wish,...\n",
       "4                                  [banana, black, people]\n",
       "                               ...                        \n",
       "41139                         [indian, culture, backwards]\n",
       "41140                [woman, want, equality, want, charge]\n",
       "41141                                        [fuck, covid]\n",
       "41142                                  [computer, garbage]\n",
       "41143                            [good, muslim, dead, one]\n",
       "Name: lemmatized_tokens, Length: 41144, dtype: object"
      ]
     },
     "execution_count": 22,
     "metadata": {},
     "output_type": "execute_result"
    }
   ],
   "source": [
    "data['lemmatized_tokens']"
   ]
  },
  {
   "cell_type": "code",
   "execution_count": 23,
   "id": "e9a48a8f-e8e7-4686-b01e-cf08e1cd3ee7",
   "metadata": {},
   "outputs": [],
   "source": [
    "data['final_text'] = data['lemmatized_tokens'].apply(lambda x: ' '.join(x))"
   ]
  },
  {
   "cell_type": "code",
   "execution_count": 24,
   "id": "dc0ecebb-aa70-4f3d-af6e-869d959c09e1",
   "metadata": {},
   "outputs": [
    {
     "data": {
      "text/plain": [
       "0                                    dalits low ##liv ##es\n",
       "1                                gay people burden society\n",
       "2                                             arab welcome\n",
       "3        saying actually eliminate ##eb ##s wish natura...\n",
       "4                                      banana black people\n",
       "                               ...                        \n",
       "41139                             indian culture backwards\n",
       "41140                      woman want equality want charge\n",
       "41141                                           fuck covid\n",
       "41142                                     computer garbage\n",
       "41143                                 good muslim dead one\n",
       "Name: final_text, Length: 41144, dtype: object"
      ]
     },
     "execution_count": 24,
     "metadata": {},
     "output_type": "execute_result"
    }
   ],
   "source": [
    "data['final_text']"
   ]
  },
  {
   "cell_type": "code",
   "execution_count": 25,
   "id": "aa3570e5-6274-43b9-aba9-aac017973603",
   "metadata": {},
   "outputs": [
    {
     "name": "stdout",
     "output_type": "stream",
     "text": [
      "File saved\n"
     ]
    }
   ],
   "source": [
    "data.to_csv('wordpiece encoding.csv', index=False)\n",
    "print(\"File saved\")"
   ]
  }
 ],
 "metadata": {
  "kernelspec": {
   "display_name": "Python 3 (ipykernel)",
   "language": "python",
   "name": "python3"
  },
  "language_info": {
   "codemirror_mode": {
    "name": "ipython",
    "version": 3
   },
   "file_extension": ".py",
   "mimetype": "text/x-python",
   "name": "python",
   "nbconvert_exporter": "python",
   "pygments_lexer": "ipython3",
   "version": "3.12.4"
  }
 },
 "nbformat": 4,
 "nbformat_minor": 5
}
